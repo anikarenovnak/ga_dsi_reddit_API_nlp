{
 "cells": [
  {
   "cell_type": "markdown",
   "metadata": {},
   "source": [
    "# Problem Statement "
   ]
  },
  {
   "cell_type": "markdown",
   "metadata": {},
   "source": [
    "The objective of this project is to utilize the [API](https://www.reddit.com/wiki/api) of [reddit.com](https://www.reddit.com/) to pull data from two different subreddits and build a model that will predict which subreddit a given post comes from. Because the data comes in the form of text, natural language processing (NLP) is needed to bring the data into a workable shape so that machine learning algorithms can be run on it. In the end, several machine learning models will be built, evaluated and compared with one another for their predictive power. One model will be chosen in the end as the best model that predicts the subreddit from which a given post is originated. The criteria for what constitutes a 'best' model is is based on achieving \n",
    "\n",
    "1. high accuracy score \n",
    "2. low bias and low variance\n",
    "\n",
    "The candidate models will be therefore evaluated on optimizing between the above two criteria. \n",
    "\n",
    "![reddit_logo](../images/reddit_logo.png)"
   ]
  },
  {
   "cell_type": "markdown",
   "metadata": {},
   "source": [
    "# 1. Data"
   ]
  },
  {
   "cell_type": "markdown",
   "metadata": {},
   "source": [
    "The data used for this project is pulled from two subreddits: [r/depression](https://www.reddit.com/r/depression/) and [r/anxiety](https://www.reddit.com/r/Anxiety/). The relevant data that will be used for this project is the text body of the posts. There are 2 reasons why these subreddits were chosen:"
   ]
  },
  {
   "cell_type": "markdown",
   "metadata": {},
   "source": [
    " 1. **Personal interest in understanding how well machine learning alrogirhtms can separate out narratives about psychological disorders.** The insight gained from this can have larger implications about how scial media platforms on which people discuss mental health issues can be leveraged with the help of machine learning to categorize mental health disorders and potentially discover unprecedented symptoms hidden within people's narratives of given mental health disorder. These insights can be extended beyond mental health disorders and into the more general medical field itself. "
   ]
  },
  {
   "cell_type": "markdown",
   "metadata": {},
   "source": [
    "2. **None disimilarity of narratives within the two subreddits**. It is a well established fact in of psychology that people who suffer from anxiety often also suffer from depression, thus, the two disorders frequently go hand in hand. This makes the problem I wnat to investigate more challenging because the data gathered from the two subreddits is not disimilar: posts within the depression subreddit are expected to discuss depression, but a lot of them are also expected to discuss anxiety in addition to depression. The same in reverse is true for posts from anxiety subreddits. Thus, there will be a lot of overlap of narrative between the two subreddits. This is expected to make it more difficult for an ML model to seperate out the two. "
   ]
  },
  {
   "cell_type": "markdown",
   "metadata": {},
   "source": [
    "# 2. Checking Assumptions"
   ]
  },
  {
   "cell_type": "markdown",
   "metadata": {},
   "source": [
    "In point 1. above, it is assumed that an ML algorithm should be able to sucessfully categorize posts coming from depression subreddit and anxiety subreddit. In order to test this assumption, I will leverage the conventional definitions of depression and anxiety as they are known today wtihin the field of psychology. These definitions will serve as the control for the experiment. After the best model is chosen, I will look into which features (words) the model finds to be most important for this classification problem. Those features will then be qualitatively assessed for how well they fit within the general definitions of depression and psychology. Further details on this will be discussed in the notebook **5. Conclusive Insights and Recommendations** "
   ]
  },
  {
   "cell_type": "markdown",
   "metadata": {},
   "source": [
    "In point 2. above, it is assumed that it will be more difficult for an ML model to classify posts from two subreddits if the narrative in the posts of the two subreddits are similar. This assumption needs to be formally tested with a hypotheses test. In order to do this, I introduce a control group to the experiment - the [r/datascience subreddit](https://www.reddit.com/r/datascience/). This subreddit is assumed to be highly disimilar to r/depression and r/anxiety subreddits because because its theme and therefore the content matter of its posts is completeley unrelated to psychological disorders. Subsequent to introducing this control group, a hypotheses test will be conducted. A more thorough discussion about this can be found in notebook **2. Data Cleaning and NLP** "
   ]
  },
  {
   "cell_type": "code",
   "execution_count": 5,
   "metadata": {},
   "outputs": [],
   "source": [
    "# import all libraries that will be used in this notebook\n",
    "\n",
    "import pandas as pd\n",
    "import requests\n",
    "import time"
   ]
  },
  {
   "cell_type": "markdown",
   "metadata": {},
   "source": [
    "# 3. Data Collection from Reddit's API "
   ]
  },
  {
   "cell_type": "markdown",
   "metadata": {},
   "source": [
    "**Note**: Credit goes to Riley from General Assembly for the code to set up a personal user agent and for iteratively pulling data from reddit's API. "
   ]
  },
  {
   "cell_type": "code",
   "execution_count": 6,
   "metadata": {},
   "outputs": [],
   "source": [
    "# setting up a personal user agent to pull data from reddit's API in the form of a json file. \n",
    "\n",
    "url = 'https://www.reddit.com/r/depression.json'\n",
    "headers = {'User-agent': 'annie_bot'}\n",
    "res = requests.get(url, headers = headers)\n",
    "res.status_code\n",
    "ds_json = res.json()"
   ]
  },
  {
   "cell_type": "markdown",
   "metadata": {},
   "source": [
    "The data from reddit's API comes in the form of a json file - a dictionary like object. In order to pull the relevant information out of it, further traversal of the dictionary is necessary. "
   ]
  },
  {
   "cell_type": "code",
   "execution_count": 9,
   "metadata": {},
   "outputs": [
    {
     "data": {
      "text/plain": [
       "['data', 'kind']"
      ]
     },
     "execution_count": 9,
     "metadata": {},
     "output_type": "execute_result"
    }
   ],
   "source": [
    "# exploring the data to see where the actual posts are\n",
    "sorted(ds_json.keys())"
   ]
  },
  {
   "cell_type": "code",
   "execution_count": 10,
   "metadata": {},
   "outputs": [
    {
     "data": {
      "text/plain": [
       "['after', 'before', 'children', 'dist', 'modhash']"
      ]
     },
     "execution_count": 10,
     "metadata": {},
     "output_type": "execute_result"
    }
   ],
   "source": [
    "# looking further into the 'data' key of the dictionary\n",
    "sorted(ds_json['data'].keys())"
   ]
  },
  {
   "cell_type": "markdown",
   "metadata": {},
   "source": [
    "This is where the actual posts hide within the dictionary: "
   ]
  },
  {
   "cell_type": "code",
   "execution_count": 11,
   "metadata": {},
   "outputs": [
    {
     "data": {
      "text/plain": [
       "'Welcome to /r/depression\\'s check-in post - a place to take a moment and share what is going on and how you are doing. If you have an accomplishment you want to talk about (these shouldn\\'t be standalone posts in the sub as they violate the \"role model\" rule, but are welcome here), or are having a tough time but prefer not to make your own post, this is a place you can share.\\n\\nWe try our best to keep this space as safe and supportive as possible on reddit\\'s wide-open anonymity-friendly platform. The community rules can be found in the sidebar, or under \"Community Info\" in the official mobile apps. If you aren\\'t sure about a rule, [please ask us](https://www.reddit.com/message/compose?to=%2Fr%2Fdepression). \\n\\n*****\\n\\nSorry about letting the last post get archived.  We\\'ve been super-busy keeping up with the modqueue and that\\'s slowing down our work on making the community rules more clear and visible and migrated to the standard reddit rules system - we *are* spending all the available time we have on that.  In the meantime, if you\\'re on mobile, please read the info and rules which are under \"Community Info\" on the menu when you\\'re visiting the subreddit.  \\n\\nI\\'d like to highlight the most common violations that create extra work for us.  Please use reddit\\'s \"report\" function when you see anything like that.  The exact reasons are less important than the existence of a report, because that puts it in our modqueue where we will look at it first chance we get.  \\n\\n*  Helpers inviting private contact as a first resort.  Nobody who\\'s both well-meaning and knowledgeable should ever do this.  Please keep your conversations out in the public threads unless/until you\\'ve established a solid rapport, and preferably let the OP decide when it\\'s time to go private.   \\n\\n* \"I\\'m here to help\" posts.  These are specifically against the rules.  \\n\\n* Posts that aren\\'t directly relevant to personal experience of depression, the mental illness and/or aren\\'t requests for support.  Everything we do here is based on our core belief that talking about depression is both important and difficult, so we need to be strict about keeping on-topic.  You don\\'t need to have a clinical diagnosis of depression to post here, but, on the other hand, being diagnosed doesn\\'t mean it\\'s okay for you to talk about anything.  For example, depression is *not* loneliness, it\\'s not low self-esteem, and it\\'s not being sad or distressed for good reasons.  Those are all important and serious issues too, and they should be discussed, but this is not the place.  \\n\\n**Edit:**  I wrote this in a comment reply below but I want to highlight it here:  We enforce the rules as leniently as possible in the case of people who have come here to get support, but strictly in the case of people who are here for any other reason. We think it makes sense to ask people who are giving help to police themselves, but we try to cut people in need of help as much slack as we can without allowing discussions that take focus away from others in need of support. \\n\\nIf you have concerns or questions about community business or moderation, please talk to us [in modmail](https://www.reddit.com/message/compose?to=%2Fr%2Fdepression) before you make a post about it.  \\n\\nThanks to everyone for their courage in sharing their struggles, and their kindness in supporting others.  '"
      ]
     },
     "execution_count": 11,
     "metadata": {},
     "output_type": "execute_result"
    }
   ],
   "source": [
    "# view an actual post \n",
    "ds_json['data']['children'][1]['data']['selftext']"
   ]
  },
  {
   "cell_type": "markdown",
   "metadata": {},
   "source": [
    "As apparent above, each post comes with a lot of text and html artifacts that will need to be cleaned and removed before the posts can be used for modeling. Data cleaning is done and discussed in the **Natural Language Processing and Data Cleaning** notebook."
   ]
  },
  {
   "cell_type": "markdown",
   "metadata": {},
   "source": [
    "Reddit's API is set up in such a way that one can pull only 25 posts at a time. I need a few hundred posts per subreddit for this project. In order to get all this data, I will use the post ID of the 25th post as a stopping point before moving on to a next iteration in a for loop to iteratively collect more posts beyond the 25 that are allowed at a time by reddit. "
   ]
  },
  {
   "cell_type": "code",
   "execution_count": 12,
   "metadata": {},
   "outputs": [
    {
     "data": {
      "text/plain": [
       "'t3_b9dmk5'"
      ]
     },
     "execution_count": 12,
     "metadata": {},
     "output_type": "execute_result"
    }
   ],
   "source": [
    "# the ID of the last (25th) post\n",
    "ds_json['data']['after']"
   ]
  },
  {
   "cell_type": "code",
   "execution_count": 14,
   "metadata": {},
   "outputs": [],
   "source": [
    "params = {'after':'t3_b9dmk5'}\n",
    "requests.get(url, params = param, headers = headers)"
   ]
  },
  {
   "cell_type": "code",
   "execution_count": 14,
   "metadata": {},
   "outputs": [],
   "source": [
    "# save the urls of the subreddits we will be using to variables \n",
    "datascience = 'https://www.reddit.com/r/datascience.json'\n",
    "depression = 'https://www.reddit.com/r/depression.json'\n",
    "anxiety = 'https://www.reddit.com/r/Anxiety.json'"
   ]
  },
  {
   "cell_type": "markdown",
   "metadata": {},
   "source": [
    "## 3.1. Get data from r/depression "
   ]
  },
  {
   "cell_type": "markdown",
   "metadata": {},
   "source": [
    "To prevent hitting reddit's API with the for loop excessively and overwhelming reddit's server, I willl use the **time.sleep(2)** command to give a 2 second break between the iterations of the for loop."
   ]
  },
  {
   "cell_type": "code",
   "execution_count": 15,
   "metadata": {},
   "outputs": [],
   "source": [
    "posts = []\n",
    "after = None\n",
    "\n",
    "for i in range(0,30):\n",
    "    #print(i)\n",
    "    if after == None:\n",
    "        params = {}\n",
    "    else: \n",
    "        params = {'after': after}\n",
    "    url = url\n",
    "    res = requests.get(depression, params = params, headers = headers)\n",
    "    ds_json = res.json()\n",
    "    if res.status_code == 200:\n",
    "        ds_json = res.json()\n",
    "        posts.extend(ds_json['data']['children'])\n",
    "        after = ds_json['data']['after']\n",
    "    else: \n",
    "        print(res.status_code)\n",
    "        break\n",
    "    time.sleep(2)"
   ]
  },
  {
   "cell_type": "code",
   "execution_count": 16,
   "metadata": {},
   "outputs": [],
   "source": [
    "post_text = []\n",
    "for text in range(1,len(posts)):\n",
    "    post_text.append(posts[text]['data']['selftext'])\n",
    "    \n",
    "dep = pd.DataFrame(post_text)\n",
    "dep['label'] = 0"
   ]
  },
  {
   "cell_type": "code",
   "execution_count": 17,
   "metadata": {},
   "outputs": [
    {
     "data": {
      "text/html": [
       "<div>\n",
       "<style scoped>\n",
       "    .dataframe tbody tr th:only-of-type {\n",
       "        vertical-align: middle;\n",
       "    }\n",
       "\n",
       "    .dataframe tbody tr th {\n",
       "        vertical-align: top;\n",
       "    }\n",
       "\n",
       "    .dataframe thead th {\n",
       "        text-align: right;\n",
       "    }\n",
       "</style>\n",
       "<table border=\"1\" class=\"dataframe\">\n",
       "  <thead>\n",
       "    <tr style=\"text-align: right;\">\n",
       "      <th></th>\n",
       "      <th>0</th>\n",
       "      <th>label</th>\n",
       "    </tr>\n",
       "  </thead>\n",
       "  <tbody>\n",
       "    <tr>\n",
       "      <th>0</th>\n",
       "      <td>Welcome to /r/depression's check-in post - a p...</td>\n",
       "      <td>0</td>\n",
       "    </tr>\n",
       "    <tr>\n",
       "      <th>1</th>\n",
       "      <td>Yesterday a friend told me that. To be honest,...</td>\n",
       "      <td>0</td>\n",
       "    </tr>\n",
       "    <tr>\n",
       "      <th>2</th>\n",
       "      <td>As bad as things may be, right now... the worl...</td>\n",
       "      <td>0</td>\n",
       "    </tr>\n",
       "    <tr>\n",
       "      <th>3</th>\n",
       "      <td>I just want to get this shit out and feel bett...</td>\n",
       "      <td>0</td>\n",
       "    </tr>\n",
       "    <tr>\n",
       "      <th>4</th>\n",
       "      <td>I wonder how many of us can relate to [this ar...</td>\n",
       "      <td>0</td>\n",
       "    </tr>\n",
       "  </tbody>\n",
       "</table>\n",
       "</div>"
      ],
      "text/plain": [
       "                                                   0  label\n",
       "0  Welcome to /r/depression's check-in post - a p...      0\n",
       "1  Yesterday a friend told me that. To be honest,...      0\n",
       "2  As bad as things may be, right now... the worl...      0\n",
       "3  I just want to get this shit out and feel bett...      0\n",
       "4  I wonder how many of us can relate to [this ar...      0"
      ]
     },
     "execution_count": 17,
     "metadata": {},
     "output_type": "execute_result"
    }
   ],
   "source": [
    "dep.head()"
   ]
  },
  {
   "cell_type": "code",
   "execution_count": 19,
   "metadata": {},
   "outputs": [],
   "source": [
    "# save data from r/depression to a csv file\n",
    "dep.to_csv('./data/dep.csv') "
   ]
  },
  {
   "cell_type": "markdown",
   "metadata": {},
   "source": [
    "## 3.2. Get data from r/anxiety"
   ]
  },
  {
   "cell_type": "code",
   "execution_count": 20,
   "metadata": {},
   "outputs": [],
   "source": [
    "posts = []\n",
    "after = None\n",
    "\n",
    "for i in range(0,30):\n",
    "    #print(i)\n",
    "    if after == None:\n",
    "        params = {}\n",
    "    else: \n",
    "        params = {'after': after}\n",
    "    #url = se_url\n",
    "    res = requests.get(anxiety, params = params, headers = headers)\n",
    "    ds_json = res.json()\n",
    "    if res.status_code == 200:\n",
    "        ds_json = res.json()\n",
    "        posts.extend(ds_json['data']['children'])\n",
    "        after = ds_json['data']['after']\n",
    "    else: \n",
    "        print(res.status_code)\n",
    "        break\n",
    "    time.sleep(2)"
   ]
  },
  {
   "cell_type": "code",
   "execution_count": 21,
   "metadata": {},
   "outputs": [],
   "source": [
    "post_text = []\n",
    "for text in range(1,len(posts)):\n",
    "    post_text.append(posts[text]['data']['selftext'])\n",
    "    \n",
    "anx = pd.DataFrame(post_text)\n",
    "anx['label'] = 1"
   ]
  },
  {
   "cell_type": "code",
   "execution_count": 26,
   "metadata": {},
   "outputs": [
    {
     "data": {
      "text/html": [
       "<div>\n",
       "<style scoped>\n",
       "    .dataframe tbody tr th:only-of-type {\n",
       "        vertical-align: middle;\n",
       "    }\n",
       "\n",
       "    .dataframe tbody tr th {\n",
       "        vertical-align: top;\n",
       "    }\n",
       "\n",
       "    .dataframe thead th {\n",
       "        text-align: right;\n",
       "    }\n",
       "</style>\n",
       "<table border=\"1\" class=\"dataframe\">\n",
       "  <thead>\n",
       "    <tr style=\"text-align: right;\">\n",
       "      <th></th>\n",
       "      <th>0</th>\n",
       "      <th>label</th>\n",
       "    </tr>\n",
       "  </thead>\n",
       "  <tbody>\n",
       "    <tr>\n",
       "      <th>0</th>\n",
       "      <td>What have you accomplished this week? Share yo...</td>\n",
       "      <td>1</td>\n",
       "    </tr>\n",
       "    <tr>\n",
       "      <th>1</th>\n",
       "      <td>I’ve been diagnosed with anxiety and depressio...</td>\n",
       "      <td>1</td>\n",
       "    </tr>\n",
       "    <tr>\n",
       "      <th>2</th>\n",
       "      <td>Lately I've been watching Star Trek Discovery....</td>\n",
       "      <td>1</td>\n",
       "    </tr>\n",
       "    <tr>\n",
       "      <th>3</th>\n",
       "      <td>My timid personality isn't just reflected outs...</td>\n",
       "      <td>1</td>\n",
       "    </tr>\n",
       "    <tr>\n",
       "      <th>4</th>\n",
       "      <td>...so I could not give a shit about life and j...</td>\n",
       "      <td>1</td>\n",
       "    </tr>\n",
       "  </tbody>\n",
       "</table>\n",
       "</div>"
      ],
      "text/plain": [
       "                                                   0  label\n",
       "0  What have you accomplished this week? Share yo...      1\n",
       "1  I’ve been diagnosed with anxiety and depressio...      1\n",
       "2  Lately I've been watching Star Trek Discovery....      1\n",
       "3  My timid personality isn't just reflected outs...      1\n",
       "4  ...so I could not give a shit about life and j...      1"
      ]
     },
     "execution_count": 26,
     "metadata": {},
     "output_type": "execute_result"
    }
   ],
   "source": [
    "anx.head()"
   ]
  },
  {
   "cell_type": "code",
   "execution_count": 23,
   "metadata": {},
   "outputs": [],
   "source": [
    "# save the data from r/anxiety to a csv file \n",
    "anx.to_csv('./data/anx.csv')"
   ]
  },
  {
   "cell_type": "markdown",
   "metadata": {},
   "source": [
    "## 3.3. Get data from r/datascience (the control)"
   ]
  },
  {
   "cell_type": "code",
   "execution_count": 8,
   "metadata": {},
   "outputs": [],
   "source": [
    "posts = []\n",
    "after = None\n",
    "\n",
    "for i in range(0,30):\n",
    "    #print(i)\n",
    "    if after == None:\n",
    "        params = {}\n",
    "    else: \n",
    "        params = {'after': after}\n",
    "    #url = se_url\n",
    "    res = requests.get(datascience, params = params, headers = headers)\n",
    "    ds_json = res.json()\n",
    "    if res.status_code == 200:\n",
    "        ds_json = res.json()\n",
    "        posts.extend(ds_json['data']['children'])\n",
    "        after = ds_json['data']['after']\n",
    "    else: \n",
    "        print(res.status_code)\n",
    "        break\n",
    "    time.sleep(2)"
   ]
  },
  {
   "cell_type": "code",
   "execution_count": 10,
   "metadata": {},
   "outputs": [],
   "source": [
    "post_text = []\n",
    "for text in range(1,len(posts)):\n",
    "    post_text.append(posts[text]['data']['selftext'])\n",
    "    \n",
    "ds = pd.DataFrame(post_text)\n",
    "ds['label'] = 1"
   ]
  },
  {
   "cell_type": "code",
   "execution_count": 11,
   "metadata": {},
   "outputs": [
    {
     "data": {
      "text/html": [
       "<div>\n",
       "<style scoped>\n",
       "    .dataframe tbody tr th:only-of-type {\n",
       "        vertical-align: middle;\n",
       "    }\n",
       "\n",
       "    .dataframe tbody tr th {\n",
       "        vertical-align: top;\n",
       "    }\n",
       "\n",
       "    .dataframe thead th {\n",
       "        text-align: right;\n",
       "    }\n",
       "</style>\n",
       "<table border=\"1\" class=\"dataframe\">\n",
       "  <thead>\n",
       "    <tr style=\"text-align: right;\">\n",
       "      <th></th>\n",
       "      <th>0</th>\n",
       "      <th>label</th>\n",
       "    </tr>\n",
       "  </thead>\n",
       "  <tbody>\n",
       "    <tr>\n",
       "      <th>0</th>\n",
       "      <td>Welcome to this week's entering &amp;amp; transiti...</td>\n",
       "      <td>1</td>\n",
       "    </tr>\n",
       "    <tr>\n",
       "      <th>1</th>\n",
       "      <td></td>\n",
       "      <td>1</td>\n",
       "    </tr>\n",
       "    <tr>\n",
       "      <th>2</th>\n",
       "      <td>Hello everyone,\\n\\nThe project is called Deep ...</td>\n",
       "      <td>1</td>\n",
       "    </tr>\n",
       "    <tr>\n",
       "      <th>3</th>\n",
       "      <td></td>\n",
       "      <td>1</td>\n",
       "    </tr>\n",
       "    <tr>\n",
       "      <th>4</th>\n",
       "      <td>Currently, I'm working as as a Customer Servic...</td>\n",
       "      <td>1</td>\n",
       "    </tr>\n",
       "  </tbody>\n",
       "</table>\n",
       "</div>"
      ],
      "text/plain": [
       "                                                   0  label\n",
       "0  Welcome to this week's entering &amp; transiti...      1\n",
       "1                                                         1\n",
       "2  Hello everyone,\\n\\nThe project is called Deep ...      1\n",
       "3                                                         1\n",
       "4  Currently, I'm working as as a Customer Servic...      1"
      ]
     },
     "execution_count": 11,
     "metadata": {},
     "output_type": "execute_result"
    }
   ],
   "source": [
    "ds.head()"
   ]
  },
  {
   "cell_type": "code",
   "execution_count": 12,
   "metadata": {},
   "outputs": [],
   "source": [
    "# save data from r/datascience to a csv file \n",
    "ds.to_csv('./data/ds.csv')"
   ]
  },
  {
   "cell_type": "markdown",
   "metadata": {},
   "source": [
    "## 3.4. Create a dataframe for posts coming from r/depression and r/anxiety"
   ]
  },
  {
   "cell_type": "code",
   "execution_count": 27,
   "metadata": {},
   "outputs": [],
   "source": [
    "depanx = pd.concat([dep, anx], axis = 0)\n",
    "depanx.rename(columns = {0:'post'}, inplace = True)"
   ]
  },
  {
   "cell_type": "code",
   "execution_count": 28,
   "metadata": {},
   "outputs": [
    {
     "data": {
      "text/plain": [
       "1    751\n",
       "0    751\n",
       "Name: label, dtype: int64"
      ]
     },
     "execution_count": 28,
     "metadata": {},
     "output_type": "execute_result"
    }
   ],
   "source": [
    "depanx.label.value_counts()"
   ]
  },
  {
   "cell_type": "code",
   "execution_count": 29,
   "metadata": {},
   "outputs": [],
   "source": [
    "# save depression-anxiety data to a csv file \n",
    "depanx.to_csv('./data/depanx.csv')"
   ]
  },
  {
   "cell_type": "markdown",
   "metadata": {},
   "source": [
    "## 3.5. Create a dataframe fro posts coming from r/depression and r/datascience"
   ]
  },
  {
   "cell_type": "code",
   "execution_count": 18,
   "metadata": {},
   "outputs": [],
   "source": [
    "depds = pd.concat([dep, ds], axis = 0)\n",
    "depds.rename(columns = {0:'post'}, inplace = True)"
   ]
  },
  {
   "cell_type": "code",
   "execution_count": 21,
   "metadata": {},
   "outputs": [
    {
     "data": {
      "text/plain": [
       "0    751\n",
       "1    733\n",
       "Name: label, dtype: int64"
      ]
     },
     "execution_count": 21,
     "metadata": {},
     "output_type": "execute_result"
    }
   ],
   "source": [
    "depds['label'].value_counts()"
   ]
  },
  {
   "cell_type": "code",
   "execution_count": 23,
   "metadata": {},
   "outputs": [],
   "source": [
    "# save depression-datascience data to a csv file \n",
    "depds.to_csv('./data/depds.csv')"
   ]
  },
  {
   "cell_type": "markdown",
   "metadata": {},
   "source": [
    "So we have two dataframes, each with roughly about 1500 posts. "
   ]
  }
 ],
 "metadata": {
  "kernelspec": {
   "display_name": "Python 3",
   "language": "python",
   "name": "python3"
  },
  "language_info": {
   "codemirror_mode": {
    "name": "ipython",
    "version": 3
   },
   "file_extension": ".py",
   "mimetype": "text/x-python",
   "name": "python",
   "nbconvert_exporter": "python",
   "pygments_lexer": "ipython3",
   "version": "3.7.1"
  }
 },
 "nbformat": 4,
 "nbformat_minor": 2
}
