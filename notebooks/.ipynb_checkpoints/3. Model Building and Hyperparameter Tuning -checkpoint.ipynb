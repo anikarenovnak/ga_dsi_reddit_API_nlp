{
 "cells": [
  {
   "cell_type": "code",
   "execution_count": 36,
   "metadata": {},
   "outputs": [],
   "source": [
    "# import all libraries that will be used in this notebook\n",
    "import pandas as pd \n",
    "import numpy as np\n",
    "from sklearn.model_selection import train_test_split, GridSearchCV, cross_val_score\n",
    "from sklearn.linear_model import LogisticRegression\n",
    "import regex as re\n",
    "from sklearn.feature_extraction.text import CountVectorizer, TfidfVectorizer\n",
    "from sklearn.pipeline import Pipeline\n",
    "from sklearn.metrics import roc_auc_score, roc_curve, accuracy_score, confusion_matrix\n",
    "from sklearn.neighbors import KNeighborsClassifier\n",
    "from sklearn.tree import DecisionTreeClassifier\n",
    "from sklearn.ensemble import BaggingClassifier, VotingClassifier, RandomForestClassifier, ExtraTreesClassifier\n",
    "import time\n",
    "import warnings\n",
    "from sklearn.naive_bayes import MultinomialNB\n",
    "#!pip install pactools\n",
    "#warnings.filterwarnings('ignore')\n",
    "from nltk.corpus import stopwords\n",
    "\n",
    "%matplotlib inline\n",
    "import matplotlib.pyplot as plt\n",
    "\n",
    "from pactools.grid_search import GridSearchCVProgressBar"
   ]
  },
  {
   "cell_type": "markdown",
   "metadata": {},
   "source": [
    "# 1. Import the data "
   ]
  },
  {
   "cell_type": "code",
   "execution_count": 37,
   "metadata": {},
   "outputs": [],
   "source": [
    "dat = pd.read_csv('./data/clean_data.csv')\n",
    "dat.drop(columns = 'Unnamed: 0', inplace = True)"
   ]
  },
  {
   "cell_type": "code",
   "execution_count": 39,
   "metadata": {},
   "outputs": [
    {
     "data": {
      "text/html": [
       "<div>\n",
       "<style scoped>\n",
       "    .dataframe tbody tr th:only-of-type {\n",
       "        vertical-align: middle;\n",
       "    }\n",
       "\n",
       "    .dataframe tbody tr th {\n",
       "        vertical-align: top;\n",
       "    }\n",
       "\n",
       "    .dataframe thead th {\n",
       "        text-align: right;\n",
       "    }\n",
       "</style>\n",
       "<table border=\"1\" class=\"dataframe\">\n",
       "  <thead>\n",
       "    <tr style=\"text-align: right;\">\n",
       "      <th></th>\n",
       "      <th>post</th>\n",
       "      <th>label</th>\n",
       "    </tr>\n",
       "  </thead>\n",
       "  <tbody>\n",
       "    <tr>\n",
       "      <th>0</th>\n",
       "      <td>welcome r depression check post place take mom...</td>\n",
       "      <td>0</td>\n",
       "    </tr>\n",
       "    <tr>\n",
       "      <th>1</th>\n",
       "      <td>instead called work breaking shift cry drive w...</td>\n",
       "      <td>0</td>\n",
       "    </tr>\n",
       "    <tr>\n",
       "      <th>2</th>\n",
       "      <td>stay alive witness</td>\n",
       "      <td>0</td>\n",
       "    </tr>\n",
       "    <tr>\n",
       "      <th>3</th>\n",
       "      <td>behaviour going anymore getting things done wo...</td>\n",
       "      <td>0</td>\n",
       "    </tr>\n",
       "    <tr>\n",
       "      <th>4</th>\n",
       "      <td>weeks ago ready end working decided visit cam ...</td>\n",
       "      <td>0</td>\n",
       "    </tr>\n",
       "  </tbody>\n",
       "</table>\n",
       "</div>"
      ],
      "text/plain": [
       "                                                post  label\n",
       "0  welcome r depression check post place take mom...      0\n",
       "1  instead called work breaking shift cry drive w...      0\n",
       "2                                 stay alive witness      0\n",
       "3  behaviour going anymore getting things done wo...      0\n",
       "4  weeks ago ready end working decided visit cam ...      0"
      ]
     },
     "execution_count": 39,
     "metadata": {},
     "output_type": "execute_result"
    }
   ],
   "source": [
    "dat.head()"
   ]
  },
  {
   "cell_type": "code",
   "execution_count": 40,
   "metadata": {},
   "outputs": [
    {
     "data": {
      "text/html": [
       "<div>\n",
       "<style scoped>\n",
       "    .dataframe tbody tr th:only-of-type {\n",
       "        vertical-align: middle;\n",
       "    }\n",
       "\n",
       "    .dataframe tbody tr th {\n",
       "        vertical-align: top;\n",
       "    }\n",
       "\n",
       "    .dataframe thead th {\n",
       "        text-align: right;\n",
       "    }\n",
       "</style>\n",
       "<table border=\"1\" class=\"dataframe\">\n",
       "  <thead>\n",
       "    <tr style=\"text-align: right;\">\n",
       "      <th></th>\n",
       "      <th>post</th>\n",
       "      <th>label</th>\n",
       "    </tr>\n",
       "  </thead>\n",
       "  <tbody>\n",
       "    <tr>\n",
       "      <th>1463</th>\n",
       "      <td>anxiety bad long time one simple reason im hol...</td>\n",
       "      <td>1</td>\n",
       "    </tr>\n",
       "    <tr>\n",
       "      <th>1464</th>\n",
       "      <td>hysterectomy due fibroids although gotten clea...</td>\n",
       "      <td>1</td>\n",
       "    </tr>\n",
       "    <tr>\n",
       "      <th>1465</th>\n",
       "      <td>long story short started counseling last year ...</td>\n",
       "      <td>1</td>\n",
       "    </tr>\n",
       "    <tr>\n",
       "      <th>1466</th>\n",
       "      <td>hi guys girls hope well quick summary life suf...</td>\n",
       "      <td>1</td>\n",
       "    </tr>\n",
       "    <tr>\n",
       "      <th>1467</th>\n",
       "      <td>sooo exhausted f always edge reason poor boyfr...</td>\n",
       "      <td>1</td>\n",
       "    </tr>\n",
       "  </tbody>\n",
       "</table>\n",
       "</div>"
      ],
      "text/plain": [
       "                                                   post  label\n",
       "1463  anxiety bad long time one simple reason im hol...      1\n",
       "1464  hysterectomy due fibroids although gotten clea...      1\n",
       "1465  long story short started counseling last year ...      1\n",
       "1466  hi guys girls hope well quick summary life suf...      1\n",
       "1467  sooo exhausted f always edge reason poor boyfr...      1"
      ]
     },
     "execution_count": 40,
     "metadata": {},
     "output_type": "execute_result"
    }
   ],
   "source": [
    "dat.tail()"
   ]
  },
  {
   "cell_type": "code",
   "execution_count": 41,
   "metadata": {},
   "outputs": [
    {
     "data": {
      "text/plain": [
       "post     0\n",
       "label    0\n",
       "dtype: int64"
      ]
     },
     "execution_count": 41,
     "metadata": {},
     "output_type": "execute_result"
    }
   ],
   "source": [
    "dat.dropna(axis = 0, inplace = True)\n",
    "dat.isnull().sum()"
   ]
  },
  {
   "cell_type": "code",
   "execution_count": 50,
   "metadata": {},
   "outputs": [
    {
     "data": {
      "text/plain": [
       "0    749\n",
       "1    718\n",
       "Name: label, dtype: int64"
      ]
     },
     "execution_count": 50,
     "metadata": {},
     "output_type": "execute_result"
    }
   ],
   "source": [
    "dat['label'].value_counts()"
   ]
  },
  {
   "cell_type": "markdown",
   "metadata": {},
   "source": [
    "# 2. Define X, y and apply train_test_split"
   ]
  },
  {
   "cell_type": "code",
   "execution_count": 46,
   "metadata": {},
   "outputs": [
    {
     "name": "stdout",
     "output_type": "stream",
     "text": [
      "1467\n",
      "(1467,)\n"
     ]
    }
   ],
   "source": [
    "X = list(dat['post'])\n",
    "y = dat['label']\n",
    "print(len(X))\n",
    "print(y.shape)"
   ]
  },
  {
   "cell_type": "code",
   "execution_count": 47,
   "metadata": {},
   "outputs": [],
   "source": [
    "X_train, X_test, y_train, y_test = train_test_split(X, y, random_state = 42, stratify = y)"
   ]
  },
  {
   "cell_type": "code",
   "execution_count": 48,
   "metadata": {},
   "outputs": [
    {
     "data": {
      "text/plain": [
       "0    562\n",
       "1    538\n",
       "Name: label, dtype: int64"
      ]
     },
     "execution_count": 48,
     "metadata": {},
     "output_type": "execute_result"
    }
   ],
   "source": [
    "y_train.value_counts()"
   ]
  },
  {
   "cell_type": "code",
   "execution_count": 225,
   "metadata": {},
   "outputs": [
    {
     "data": {
      "text/plain": [
       "0    187\n",
       "1    180\n",
       "Name: label, dtype: int64"
      ]
     },
     "execution_count": 225,
     "metadata": {},
     "output_type": "execute_result"
    }
   ],
   "source": [
    "y_test.value_counts()"
   ]
  },
  {
   "cell_type": "markdown",
   "metadata": {},
   "source": [
    "# 3. Establish the baseline accuracy"
   ]
  },
  {
   "cell_type": "markdown",
   "metadata": {},
   "source": [
    "For a classification problem, the baseline accuracy is computed with the percentage of the majority class. This means that if we had a null model without any predictive power, it would always be predicting the majority class."
   ]
  },
  {
   "cell_type": "code",
   "execution_count": 54,
   "metadata": {},
   "outputs": [
    {
     "data": {
      "text/plain": [
       "0    0.510566\n",
       "1    0.489434\n",
       "Name: label, dtype: float64"
      ]
     },
     "execution_count": 54,
     "metadata": {},
     "output_type": "execute_result"
    }
   ],
   "source": [
    "dat['label'].value_counts(normalize = True)"
   ]
  },
  {
   "cell_type": "markdown",
   "metadata": {},
   "source": [
    "So our baseline accuracy score is 51%. If we were to ask a null model to make predictions on our data, the model would be correct in its predictions 51% of the time."
   ]
  },
  {
   "cell_type": "markdown",
   "metadata": {},
   "source": [
    "# 4. Customize stop_words"
   ]
  },
  {
   "cell_type": "markdown",
   "metadata": {},
   "source": [
    "Here I add some words to the standard english stopwords to pass this custom list of stop words as another parameter into a grid search. I want to pass this as a parameter to ensure that we are grid searching on a model that excudes words such as **depression**, **anxiety** and derivative words thereof from its feature space. The reason I want to remove these words is because they are the key words that basically define the classes that I want to predict. I'm curious to see how the model performs with the otpions of not having these words in its feature space. "
   ]
  },
  {
   "cell_type": "code",
   "execution_count": 68,
   "metadata": {},
   "outputs": [],
   "source": [
    "stop_words_custom = stopwords.words(\"english\") + ['depression', 'depressive', 'depressed', 'anxiety', 'anxious']"
   ]
  },
  {
   "cell_type": "markdown",
   "metadata": {},
   "source": [
    "# 5. Create a function that builds a model, tunes hyperparameters and evaluates the model"
   ]
  },
  {
   "cell_type": "markdown",
   "metadata": {},
   "source": [
    "To avoid redeundancy in large blocks of code, I have created a function that creates a pipeline for model building, does hyperparameter tuning with gridsearch and outputs a variety of evaluation metrics for the best model. This function takes in as arguments our train and test data, a vectorizer transformer (tfidf or count vectorizer) and a classification model for its pipeline, and a dictionary of hyperparameters to do a grid search over. "
   ]
  },
  {
   "cell_type": "code",
   "execution_count": 69,
   "metadata": {},
   "outputs": [],
   "source": [
    "def pipe_gs(X_train, X_test, y_train, y_test, vec, pipe_params):\n",
    "    \n",
    "    # build a pipeline \n",
    "    pipe = Pipeline([\n",
    "        ('vec', vec), # pass a vectorizer to the pipeline \n",
    "        ('clf', clf)  # pass a classification model to the pipeline \n",
    "    ])\n",
    "    \n",
    "    # set a dictionary of parameters to tune over\n",
    "    pipe_params \n",
    "    \n",
    "    # do a grid search over the parameters specified in pipe_params and then do a 3-fold cross valiation\n",
    "    gs = GridSearchCVProgressBar(pipe, param_grid=pipe_params, cv=3, verbose = 1, n_jobs = 4)\n",
    "    gs.fit(X_train, y_train)\n",
    "    print('')\n",
    "    print('')\n",
    "    \n",
    "    # best parameters \n",
    "    print('best paramteres: '+str(gs.best_params_))\n",
    "    print('')\n",
    "    print('')\n",
    "   \n",
    "    # cross_val score \n",
    "    cv_score = gs.best_score_\n",
    "  \n",
    "    # training score \n",
    "    train_score = gs.score(X_train, y_train)\n",
    "   \n",
    "    # testing score \n",
    "    test_score = gs.score(X_test, y_test)\n",
    "   \n",
    "    # predictions of the best model \n",
    "    y_pred = gs.predict(X_test)\n",
    "    \n",
    "    # accuracy score \n",
    "    accuracy = accuracy_score(y_test, y_pred)\n",
    "\n",
    "    # print('confusion matrix: '+str(confusion_matrix(y_test,y_pred)))\n",
    "    tn, fp, fn, tp = confusion_matrix(y_test,y_pred).ravel()\n",
    "    \n",
    "    # sensitivity\n",
    "    sensitivity = tp / (tp + fn)\n",
    "    \n",
    "    # specificity \n",
    "    specificity = tn / (tn + fp)\n",
    "    \n",
    "    # precision \n",
    "    precision = tp / (tp + fp)\n",
    "    \n",
    "    # misclassification\n",
    "    misclass = 1 - accuracy \n",
    "    \n",
    "    # predicted pprobabilites of the best model\n",
    "    y_pred_prob = gs.predict_proba(X_test)[:,1] \n",
    "    \n",
    "    # auc score \n",
    "    auc = roc_auc_score(y_test, y_pred_prob)\n",
    "    \n",
    "    # plot the ROC curve \n",
    "    fpr, tpr, thresholds = roc_curve(y_test, y_pred_prob)\n",
    "    plt.plot(fpr, tpr)\n",
    "    plt.xlabel('False Positive Rate')\n",
    "    plt.ylabel('True Positive Rate')\n",
    "    \n",
    "    metric_names =  ['cross val score', \n",
    "                     'train score', \n",
    "                     'test score', \n",
    "                     'accuracy', \n",
    "                     'misclassification', \n",
    "                     'true positives', \n",
    "                     'true negatives', \n",
    "                     'false positives', \n",
    "                     'false negatives', \n",
    "                     'sensitivity (tpr)', \n",
    "                     'specificity (tnr)',\n",
    "                     'precision (ppv)']\n",
    "    \n",
    "    metrics = [cv_score, \n",
    "               train_score, \n",
    "               test_score, \n",
    "               accuracy, \n",
    "               misclass, \n",
    "               tp, \n",
    "               tn, \n",
    "               fp, \n",
    "               fn, \n",
    "               sensitivity, \n",
    "               specificity, \n",
    "               precision]\n",
    "    \n",
    "    d = {'metric':metric_names, \n",
    "         'value': metrics}\n",
    "   \n",
    "    df = pd.DataFrame(d)\n",
    "      \n",
    "    return df"
   ]
  },
  {
   "cell_type": "markdown",
   "metadata": {},
   "source": [
    "I will demonstrate using this function in the case of logistic regression to show the type of output the function creates. I will then provide the code for calling the function for a variety of other models with their specific parameters. However, I will not actually run the code in the case of every remaining model in this notebook due to 1. computational expense, 2.time it will take to run the gridsearch over every single model and 3. the clutter that will be created as a result of pupulating this notebook with the outputs. I have of course done this previously and saved the output of every model in a separate file. The results are shown graphically and are discussed in notebook **4. Model Evaluation and Final Model Selection**. "
   ]
  },
  {
   "cell_type": "markdown",
   "metadata": {},
   "source": [
    "# 6. Building and Evaluating Models "
   ]
  },
  {
   "cell_type": "markdown",
   "metadata": {},
   "source": [
    "## 6.1. Logistic Regression"
   ]
  },
  {
   "cell_type": "markdown",
   "metadata": {},
   "source": [
    "### 6.1.1. Logistic Regression pipeline with count vectorizer with default parameters - no GridSearch"
   ]
  },
  {
   "cell_type": "code",
   "execution_count": 71,
   "metadata": {},
   "outputs": [
    {
     "name": "stderr",
     "output_type": "stream",
     "text": [
      "/anaconda3/lib/python3.7/site-packages/numpy/matrixlib/defmatrix.py:71: PendingDeprecationWarning: the matrix subclass is not the recommended way to represent matrices or deal with linear algebra (see https://docs.scipy.org/doc/numpy/user/numpy-for-matlab-users.html). Please adjust your code to use regular ndarray.\n",
      "  return matrix(data, dtype=dtype, copy=False)\n",
      "/anaconda3/lib/python3.7/site-packages/sklearn/linear_model/logistic.py:433: FutureWarning: Default solver will be changed to 'lbfgs' in 0.22. Specify a solver to silence this warning.\n",
      "  FutureWarning)\n"
     ]
    },
    {
     "name": "stdout",
     "output_type": "stream",
     "text": [
      "0.8299477310525066\n",
      "0.9972727272727273\n",
      "0.8147138964577657\n"
     ]
    }
   ],
   "source": [
    "pipe = Pipeline([\n",
    "    ('vec', CountVectorizer(stop_words = 'english')),\n",
    "    ('lr', LogisticRegression())\n",
    "])\n",
    "\n",
    "# Evaluate how your model will perform on unseen data\n",
    "print(cross_val_score(pipe, X_train, y_train, cv=3).mean())\n",
    "# Fit your model\n",
    "pipe.fit(X_train, y_train)\n",
    "# Training score\n",
    "print(pipe.score(X_train, y_train))\n",
    "# Test score\n",
    "print(pipe.score(X_test, y_test))"
   ]
  },
  {
   "cell_type": "markdown",
   "metadata": {},
   "source": [
    "### 6.1.1. Logistic Regression pipeline with count vectorizer and GridSaerch "
   ]
  },
  {
   "cell_type": "code",
   "execution_count": 72,
   "metadata": {},
   "outputs": [
    {
     "name": "stdout",
     "output_type": "stream",
     "text": [
      "Fitting 3 folds for each of 1728 candidates, totalling 5184 fits\n"
     ]
    },
    {
     "name": "stderr",
     "output_type": "stream",
     "text": [
      "[Parallel(n_jobs=4)]: Using backend LokyBackend with 4 concurrent workers.\n",
      "[Parallel(n_jobs=4)]: Done  42 tasks      | elapsed:    4.8s\n",
      "[Parallel(n_jobs=4)]: Done 192 tasks      | elapsed:   18.7s\n",
      "[Parallel(n_jobs=4)]: Done 442 tasks      | elapsed:   41.9s\n",
      "[Parallel(n_jobs=4)]: Done 792 tasks      | elapsed:  1.3min\n",
      "[Parallel(n_jobs=4)]: Done 1242 tasks      | elapsed:  2.0min\n",
      "[Parallel(n_jobs=4)]: Done 1792 tasks      | elapsed:  2.8min\n",
      "[Parallel(n_jobs=4)]: Done 2442 tasks      | elapsed:  3.9min\n",
      "[Parallel(n_jobs=4)]: Done 3192 tasks      | elapsed:  5.3min\n",
      "[Parallel(n_jobs=4)]: Done 4042 tasks      | elapsed:  6.6min\n",
      "[Parallel(n_jobs=4)]: Done 4992 tasks      | elapsed:  8.1min\n",
      "[Parallel(n_jobs=4)]: Done 5184 out of 5184 | elapsed:  8.4min finished\n",
      "/anaconda3/lib/python3.7/site-packages/numpy/matrixlib/defmatrix.py:71: PendingDeprecationWarning: the matrix subclass is not the recommended way to represent matrices or deal with linear algebra (see https://docs.scipy.org/doc/numpy/user/numpy-for-matlab-users.html). Please adjust your code to use regular ndarray.\n",
      "  return matrix(data, dtype=dtype, copy=False)\n",
      "/anaconda3/lib/python3.7/site-packages/sklearn/linear_model/logistic.py:433: FutureWarning: Default solver will be changed to 'lbfgs' in 0.22. Specify a solver to silence this warning.\n",
      "  FutureWarning)\n"
     ]
    },
    {
     "name": "stdout",
     "output_type": "stream",
     "text": [
      "\n",
      "\n",
      "best paramteres: {'clf__C': 0.5, 'clf__penalty': 'l1', 'vec__max_df': 0.7, 'vec__max_features': 800, 'vec__min_df': 20, 'vec__ngram_range': (1, 2), 'vec__stop_words': 'english'}\n",
      "\n",
      "\n"
     ]
    },
    {
     "data": {
      "text/html": [
       "<div>\n",
       "<style scoped>\n",
       "    .dataframe tbody tr th:only-of-type {\n",
       "        vertical-align: middle;\n",
       "    }\n",
       "\n",
       "    .dataframe tbody tr th {\n",
       "        vertical-align: top;\n",
       "    }\n",
       "\n",
       "    .dataframe thead th {\n",
       "        text-align: right;\n",
       "    }\n",
       "</style>\n",
       "<table border=\"1\" class=\"dataframe\">\n",
       "  <thead>\n",
       "    <tr style=\"text-align: right;\">\n",
       "      <th></th>\n",
       "      <th>metric</th>\n",
       "      <th>value</th>\n",
       "    </tr>\n",
       "  </thead>\n",
       "  <tbody>\n",
       "    <tr>\n",
       "      <th>0</th>\n",
       "      <td>cross val score</td>\n",
       "      <td>0.846364</td>\n",
       "    </tr>\n",
       "    <tr>\n",
       "      <th>1</th>\n",
       "      <td>train score</td>\n",
       "      <td>0.920000</td>\n",
       "    </tr>\n",
       "    <tr>\n",
       "      <th>2</th>\n",
       "      <td>test score</td>\n",
       "      <td>0.798365</td>\n",
       "    </tr>\n",
       "    <tr>\n",
       "      <th>3</th>\n",
       "      <td>accuracy</td>\n",
       "      <td>0.798365</td>\n",
       "    </tr>\n",
       "    <tr>\n",
       "      <th>4</th>\n",
       "      <td>misclassification</td>\n",
       "      <td>0.201635</td>\n",
       "    </tr>\n",
       "    <tr>\n",
       "      <th>5</th>\n",
       "      <td>true positives</td>\n",
       "      <td>129.000000</td>\n",
       "    </tr>\n",
       "    <tr>\n",
       "      <th>6</th>\n",
       "      <td>true negatives</td>\n",
       "      <td>164.000000</td>\n",
       "    </tr>\n",
       "    <tr>\n",
       "      <th>7</th>\n",
       "      <td>false positives</td>\n",
       "      <td>23.000000</td>\n",
       "    </tr>\n",
       "    <tr>\n",
       "      <th>8</th>\n",
       "      <td>false negatives</td>\n",
       "      <td>51.000000</td>\n",
       "    </tr>\n",
       "    <tr>\n",
       "      <th>9</th>\n",
       "      <td>sensitivity (tpr)</td>\n",
       "      <td>0.716667</td>\n",
       "    </tr>\n",
       "    <tr>\n",
       "      <th>10</th>\n",
       "      <td>specificity (tnr)</td>\n",
       "      <td>0.877005</td>\n",
       "    </tr>\n",
       "    <tr>\n",
       "      <th>11</th>\n",
       "      <td>precision (ppv)</td>\n",
       "      <td>0.848684</td>\n",
       "    </tr>\n",
       "  </tbody>\n",
       "</table>\n",
       "</div>"
      ],
      "text/plain": [
       "               metric       value\n",
       "0     cross val score    0.846364\n",
       "1         train score    0.920000\n",
       "2          test score    0.798365\n",
       "3            accuracy    0.798365\n",
       "4   misclassification    0.201635\n",
       "5      true positives  129.000000\n",
       "6      true negatives  164.000000\n",
       "7     false positives   23.000000\n",
       "8     false negatives   51.000000\n",
       "9   sensitivity (tpr)    0.716667\n",
       "10  specificity (tnr)    0.877005\n",
       "11    precision (ppv)    0.848684"
      ]
     },
     "execution_count": 72,
     "metadata": {},
     "output_type": "execute_result"
    },
    {
     "data": {
      "image/png": "[encoded data removed]",
      "text/plain": [
       "<Figure size 432x288 with 1 Axes>"
      ]
     },
     "metadata": {
      "needs_background": "light"
     },
     "output_type": "display_data"
    }
   ],
   "source": [
    "vec = CountVectorizer()\n",
    "clf = LogisticRegression()\n",
    "\n",
    "pipe_params = {'vec__max_features': [800, 1000, 1500],\n",
    " 'vec__min_df': [10, 15, 20, 25],\n",
    " 'vec__max_df': [.7, .8, .9, 1.0],\n",
    " 'vec__ngram_range': [(1,1), (1,2),(1,3)],\n",
    " 'vec__stop_words':['english', stop_words_custom],\n",
    " 'clf__penalty':['l1', 'l2'],\n",
    " 'clf__C':[0.1, 0.5, 0.99]}\n",
    "\n",
    "pipe_gs(X_train, X_test, y_train, y_test, vec, pipe_params)"
   ]
  },
  {
   "cell_type": "markdown",
   "metadata": {},
   "source": [
    "### 6.1.3. Logistic Regression pipeline with count tfidf vectorizer with default parameters - no GridSearch"
   ]
  },
  {
   "cell_type": "code",
   "execution_count": 74,
   "metadata": {},
   "outputs": [
    {
     "name": "stderr",
     "output_type": "stream",
     "text": [
      "/anaconda3/lib/python3.7/site-packages/numpy/matrixlib/defmatrix.py:71: PendingDeprecationWarning: the matrix subclass is not the recommended way to represent matrices or deal with linear algebra (see https://docs.scipy.org/doc/numpy/user/numpy-for-matlab-users.html). Please adjust your code to use regular ndarray.\n",
      "  return matrix(data, dtype=dtype, copy=False)\n",
      "/anaconda3/lib/python3.7/site-packages/sklearn/linear_model/logistic.py:433: FutureWarning: Default solver will be changed to 'lbfgs' in 0.22. Specify a solver to silence this warning.\n",
      "  FutureWarning)\n"
     ]
    },
    {
     "name": "stdout",
     "output_type": "stream",
     "text": [
      "0.8417973390354003\n",
      "0.9709090909090909\n",
      "0.8228882833787466\n"
     ]
    }
   ],
   "source": [
    "pipe = Pipeline([\n",
    "    ('vec', TfidfVectorizer(stop_words = 'english')),\n",
    "    ('lr', LogisticRegression())\n",
    "])\n",
    "\n",
    "# Evaluate how your model will perform on unseen data\n",
    "print(cross_val_score(pipe, X_train, y_train, cv=3).mean())\n",
    "# Fit your model\n",
    "pipe.fit(X_train, y_train)\n",
    "# Training score\n",
    "print(pipe.score(X_train, y_train))\n",
    "# Test score\n",
    "print(pipe.score(X_test, y_test))"
   ]
  },
  {
   "cell_type": "markdown",
   "metadata": {},
   "source": [
    "### 6.1.1. Logistic Regression pipeline with tfidf vectorizer and GridSaerch "
   ]
  },
  {
   "cell_type": "code",
   "execution_count": 75,
   "metadata": {},
   "outputs": [
    {
     "name": "stdout",
     "output_type": "stream",
     "text": [
      "Fitting 3 folds for each of 1728 candidates, totalling 5184 fits\n"
     ]
    },
    {
     "name": "stderr",
     "output_type": "stream",
     "text": [
      "[Parallel(n_jobs=4)]: Using backend LokyBackend with 4 concurrent workers.\n",
      "[Parallel(n_jobs=4)]: Done  42 tasks      | elapsed:    5.7s\n",
      "[Parallel(n_jobs=4)]: Done 192 tasks      | elapsed:   20.7s\n",
      "[Parallel(n_jobs=4)]: Done 442 tasks      | elapsed:   44.7s\n",
      "[Parallel(n_jobs=4)]: Done 792 tasks      | elapsed:  1.4min\n",
      "[Parallel(n_jobs=4)]: Done 1242 tasks      | elapsed:  2.1min\n",
      "[Parallel(n_jobs=4)]: Done 1792 tasks      | elapsed:  3.0min\n",
      "[Parallel(n_jobs=4)]: Done 2442 tasks      | elapsed:  4.1min\n",
      "[Parallel(n_jobs=4)]: Done 3192 tasks      | elapsed:  5.3min\n",
      "[Parallel(n_jobs=4)]: Done 4042 tasks      | elapsed:  6.8min\n",
      "[Parallel(n_jobs=4)]: Done 4992 tasks      | elapsed:  8.4min\n",
      "[Parallel(n_jobs=4)]: Done 5184 out of 5184 | elapsed:  8.8min finished\n",
      "/anaconda3/lib/python3.7/site-packages/numpy/matrixlib/defmatrix.py:71: PendingDeprecationWarning: the matrix subclass is not the recommended way to represent matrices or deal with linear algebra (see https://docs.scipy.org/doc/numpy/user/numpy-for-matlab-users.html). Please adjust your code to use regular ndarray.\n",
      "  return matrix(data, dtype=dtype, copy=False)\n",
      "/anaconda3/lib/python3.7/site-packages/sklearn/linear_model/logistic.py:433: FutureWarning: Default solver will be changed to 'lbfgs' in 0.22. Specify a solver to silence this warning.\n",
      "  FutureWarning)\n"
     ]
    },
    {
     "name": "stdout",
     "output_type": "stream",
     "text": [
      "\n",
      "\n",
      "best paramteres: {'clf__C': 0.99, 'clf__penalty': 'l2', 'vec__max_df': 0.7, 'vec__max_features': 800, 'vec__min_df': 15, 'vec__ngram_range': (1, 1), 'vec__stop_words': 'english'}\n",
      "\n",
      "\n"
     ]
    },
    {
     "data": {
      "text/html": [
       "<div>\n",
       "<style scoped>\n",
       "    .dataframe tbody tr th:only-of-type {\n",
       "        vertical-align: middle;\n",
       "    }\n",
       "\n",
       "    .dataframe tbody tr th {\n",
       "        vertical-align: top;\n",
       "    }\n",
       "\n",
       "    .dataframe thead th {\n",
       "        text-align: right;\n",
       "    }\n",
       "</style>\n",
       "<table border=\"1\" class=\"dataframe\">\n",
       "  <thead>\n",
       "    <tr style=\"text-align: right;\">\n",
       "      <th></th>\n",
       "      <th>metric</th>\n",
       "      <th>value</th>\n",
       "    </tr>\n",
       "  </thead>\n",
       "  <tbody>\n",
       "    <tr>\n",
       "      <th>0</th>\n",
       "      <td>cross val score</td>\n",
       "      <td>0.845455</td>\n",
       "    </tr>\n",
       "    <tr>\n",
       "      <th>1</th>\n",
       "      <td>train score</td>\n",
       "      <td>0.932727</td>\n",
       "    </tr>\n",
       "    <tr>\n",
       "      <th>2</th>\n",
       "      <td>test score</td>\n",
       "      <td>0.822888</td>\n",
       "    </tr>\n",
       "    <tr>\n",
       "      <th>3</th>\n",
       "      <td>accuracy</td>\n",
       "      <td>0.822888</td>\n",
       "    </tr>\n",
       "    <tr>\n",
       "      <th>4</th>\n",
       "      <td>misclassification</td>\n",
       "      <td>0.177112</td>\n",
       "    </tr>\n",
       "    <tr>\n",
       "      <th>5</th>\n",
       "      <td>true positives</td>\n",
       "      <td>135.000000</td>\n",
       "    </tr>\n",
       "    <tr>\n",
       "      <th>6</th>\n",
       "      <td>true negatives</td>\n",
       "      <td>167.000000</td>\n",
       "    </tr>\n",
       "    <tr>\n",
       "      <th>7</th>\n",
       "      <td>false positives</td>\n",
       "      <td>20.000000</td>\n",
       "    </tr>\n",
       "    <tr>\n",
       "      <th>8</th>\n",
       "      <td>false negatives</td>\n",
       "      <td>45.000000</td>\n",
       "    </tr>\n",
       "    <tr>\n",
       "      <th>9</th>\n",
       "      <td>sensitivity (tpr)</td>\n",
       "      <td>0.750000</td>\n",
       "    </tr>\n",
       "    <tr>\n",
       "      <th>10</th>\n",
       "      <td>specificity (tnr)</td>\n",
       "      <td>0.893048</td>\n",
       "    </tr>\n",
       "    <tr>\n",
       "      <th>11</th>\n",
       "      <td>precision (ppv)</td>\n",
       "      <td>0.870968</td>\n",
       "    </tr>\n",
       "  </tbody>\n",
       "</table>\n",
       "</div>"
      ],
      "text/plain": [
       "               metric       value\n",
       "0     cross val score    0.845455\n",
       "1         train score    0.932727\n",
       "2          test score    0.822888\n",
       "3            accuracy    0.822888\n",
       "4   misclassification    0.177112\n",
       "5      true positives  135.000000\n",
       "6      true negatives  167.000000\n",
       "7     false positives   20.000000\n",
       "8     false negatives   45.000000\n",
       "9   sensitivity (tpr)    0.750000\n",
       "10  specificity (tnr)    0.893048\n",
       "11    precision (ppv)    0.870968"
      ]
     },
     "execution_count": 75,
     "metadata": {},
     "output_type": "execute_result"
    },
    {
     "data": {
      "image/png": "[encoded data removed]",
      "text/plain": [
       "<Figure size 432x288 with 1 Axes>"
      ]
     },
     "metadata": {
      "needs_background": "light"
     },
     "output_type": "display_data"
    }
   ],
   "source": [
    "vec = TfidfVectorizer()\n",
    "clf = LogisticRegression()\n",
    "\n",
    "pipe_params = {'vec__max_features': [800, 1000, 1500],\n",
    " 'vec__min_df': [10, 15, 20, 25],\n",
    " 'vec__max_df': [.7, .8, .9, 1.0],\n",
    " 'vec__ngram_range': [(1,1), (1,2),(1,3)],\n",
    " 'vec__stop_words':['english', stop_words_custom],\n",
    " 'clf__penalty':['l1', 'l2'],\n",
    " 'clf__C':[0.1, 0.5, 0.99]}\n",
    "\n",
    "pipe_gs(X_train, X_test, y_train, y_test, vec, pipe_params)"
   ]
  },
  {
   "cell_type": "markdown",
   "metadata": {},
   "source": [
    "## 6.2. Naive Bayes "
   ]
  },
  {
   "cell_type": "markdown",
   "metadata": {},
   "source": [
    "### 6.2.1. Naive Bayes pipeline with count vectorizer with default parameters - no GridSearch"
   ]
  },
  {
   "cell_type": "code",
   "execution_count": null,
   "metadata": {},
   "outputs": [],
   "source": [
    "pipe = Pipeline([\n",
    "    ('vec', CountVectorizer(stop_words = 'english')),\n",
    "    ('mnb', MultinomialNB())\n",
    "])\n",
    "\n",
    "# Evaluate how your model will perform on unseen data\n",
    "print(cross_val_score(pipe, X_train, y_train, cv=3).mean())\n",
    "# Fit your model\n",
    "pipe.fit(X_train, y_train)\n",
    "# Training score\n",
    "print(pipe.score(X_train, y_train))\n",
    "# Test score\n",
    "print(pipe.score(X_test, y_test))"
   ]
  },
  {
   "cell_type": "markdown",
   "metadata": {},
   "source": [
    "### 6.2.2. Naive Bayes pipeline with count vectorizer with GridSearch"
   ]
  },
  {
   "cell_type": "code",
   "execution_count": null,
   "metadata": {},
   "outputs": [],
   "source": [
    "vec = CountVectorizer()\n",
    "clf = MultinomialNB()\n",
    "\n",
    "pipe_params = {\n",
    "        'vec__max_features': [800, 1000, 1500],\n",
    "        'vec__min_df': [10, 15, 20, 25],\n",
    "        'vec__max_df': [.7, .8, .9, 1.0],\n",
    "        'vec__ngram_range': [(1,1), (1,2),(1,3)],\n",
    "        'vec__stop_words':['english', stop_words_mod],\n",
    "        'clf__alpha':[0.0, 1.0]\n",
    "    }\n",
    "\n",
    "pipe_gs(X_train, X_test, y_train, y_test, vec, pipe_params)"
   ]
  },
  {
   "cell_type": "markdown",
   "metadata": {},
   "source": [
    "### 6.2.3. Naive Bayes pipeline with tfidf vectorizer with default parameters - no GridSearch"
   ]
  },
  {
   "cell_type": "code",
   "execution_count": null,
   "metadata": {},
   "outputs": [],
   "source": [
    "pipe = Pipeline([\n",
    "    ('vec', TfidfVectorizer(stop_words = 'english')),\n",
    "    ('mnb', MultinomialNB())\n",
    "])\n",
    "\n",
    "# Evaluate how your model will perform on unseen data\n",
    "print(cross_val_score(pipe, X_train, y_train, cv=3).mean())\n",
    "# Fit your model\n",
    "pipe.fit(X_train, y_train)\n",
    "# Training score\n",
    "print(pipe.score(X_train, y_train))\n",
    "# Test score\n",
    "print(pipe.score(X_test, y_test))"
   ]
  },
  {
   "cell_type": "markdown",
   "metadata": {},
   "source": [
    "### 6.2.4. Naive Bayes pipeline with tfidf vectorizer with GridSearch"
   ]
  },
  {
   "cell_type": "code",
   "execution_count": null,
   "metadata": {},
   "outputs": [],
   "source": [
    "vec = TfidfVectorizer()\n",
    "clf = MultinomialNB()\n",
    "\n",
    "pipe_params = {\n",
    "        'vec__max_features': [800, 1000, 1500],\n",
    "        'vec__min_df': [10, 15, 20, 25],\n",
    "        'vec__max_df': [.7, .8, .9, 1.0],\n",
    "        'vec__ngram_range': [(1,1), (1,2),(1,3)],\n",
    "        'vec__stop_words':['english', stop_words_mod],\n",
    "        'clf__alpha':[0.0, 1.0]\n",
    "    }\n",
    "\n",
    "pipe_gs(X_train, X_test, y_train, y_test, vec, pipe_params)"
   ]
  },
  {
   "cell_type": "markdown",
   "metadata": {},
   "source": [
    "## 6.3. K-Nearest Neighbors  "
   ]
  },
  {
   "cell_type": "markdown",
   "metadata": {},
   "source": [
    "### 6.3.1. KNN pipeline with count vectorizer with default parameters - no GridSearch"
   ]
  },
  {
   "cell_type": "code",
   "execution_count": null,
   "metadata": {},
   "outputs": [],
   "source": [
    "pipe = Pipeline([\n",
    "    ('vec', CountVectorizer(stop_words = 'english')),\n",
    "    ('knn', KNeighborsClassifier())\n",
    "])\n",
    "\n",
    "# Evaluate how your model will perform on unseen data\n",
    "print(cross_val_score(pipe, X_train, y_train, cv=3).mean())\n",
    "# Fit your model\n",
    "pipe.fit(X_train, y_train)\n",
    "# Training score\n",
    "print(pipe.score(X_train, y_train))\n",
    "# Test score\n",
    "print(pipe.score(X_test, y_test))"
   ]
  },
  {
   "cell_type": "markdown",
   "metadata": {},
   "source": [
    "### 6.3.2. KNN pipeline with count vectorizer with GridSearch"
   ]
  },
  {
   "cell_type": "code",
   "execution_count": null,
   "metadata": {},
   "outputs": [],
   "source": [
    "vec = CountVectorizer()\n",
    "clf = KNeighborsClassifier()\n",
    "\n",
    "pipe_params = {\n",
    "        'vec__max_features': [800, 1000, 1500],\n",
    "        'vec__min_df': [10, 15, 20, 25],\n",
    "        'vec__max_df': [.7, .8, .9, 1.0],\n",
    "        'vec__ngram_range': [(1,1), (1,2),(1,3)],\n",
    "        'vec__stop_words':['english', stop_words_mod],\n",
    "        'clf__n_neighbors':[20, 30, 40, 50],\n",
    "        'clf__weights':['uniform', 'distance'],\n",
    "        'clf__p':[1, 2]\n",
    "    }\n",
    "\n",
    "pipe_gs(X_train, X_test, y_train, y_test, vec, pipe_params)"
   ]
  },
  {
   "cell_type": "markdown",
   "metadata": {},
   "source": [
    "### 6.3.3. KNN pipeline with tfidf vectorizer with default parameters - no GridSearch"
   ]
  },
  {
   "cell_type": "code",
   "execution_count": null,
   "metadata": {},
   "outputs": [],
   "source": [
    "pipe = Pipeline([\n",
    "    ('vec', TfidfVectorizer(stop_words = 'english')),\n",
    "    ('knn', KNeighborsClassifier())\n",
    "])\n",
    "\n",
    "# Evaluate how your model will perform on unseen data\n",
    "print(cross_val_score(pipe, X_train, y_train, cv=3).mean())\n",
    "# Fit your model\n",
    "pipe.fit(X_train, y_train)\n",
    "# Training score\n",
    "print(pipe.score(X_train, y_train))\n",
    "# Test score\n",
    "print(pipe.score(X_test, y_test))"
   ]
  },
  {
   "cell_type": "markdown",
   "metadata": {},
   "source": [
    "### 6.3.4. KNN pipeline with tfidf vectorizer with GridSearch"
   ]
  },
  {
   "cell_type": "code",
   "execution_count": null,
   "metadata": {},
   "outputs": [],
   "source": [
    "vec = CountVectorizer()\n",
    "clf = KNeighborsClassifier()\n",
    "\n",
    "pipe_params = {\n",
    "        'vec__max_features': [800, 1000, 1500],\n",
    "        'vec__min_df': [10, 15, 20, 25],\n",
    "        'vec__max_df': [.7, .8, .9, 1.0],\n",
    "        'vec__ngram_range': [(1,1), (1,2),(1,3)],\n",
    "        'vec__stop_words':['english', stop_words_mod],\n",
    "        'clf__n_neighbors':[20, 30, 40, 50],\n",
    "        'clf__weights':['uniform', 'distance'],\n",
    "        'clf__p':[1, 2]\n",
    "    }\n",
    "\n",
    "pipe_gs(X_train, X_test, y_train, y_test, vec, pipe_params)"
   ]
  },
  {
   "cell_type": "markdown",
   "metadata": {},
   "source": [
    "## 6.4. Decision Tree"
   ]
  },
  {
   "cell_type": "markdown",
   "metadata": {},
   "source": [
    "### 6.4.1. Decision Tree pipeline with count vectorizer with default parameters - no GridSearch"
   ]
  },
  {
   "cell_type": "code",
   "execution_count": null,
   "metadata": {},
   "outputs": [],
   "source": [
    "pipe = Pipeline([\n",
    "    ('vec', CountVectorizer(stop_words = 'english')),\n",
    "    ('dt', DecisionTreeClassifier())\n",
    "])\n",
    "\n",
    "# Evaluate how your model will perform on unseen data\n",
    "print(cross_val_score(pipe, X_train, y_train, cv=3).mean())\n",
    "# Fit your model\n",
    "pipe.fit(X_train, y_train)\n",
    "# Training score\n",
    "print(pipe.score(X_train, y_train))\n",
    "# Test score\n",
    "print(pipe.score(X_test, y_test))"
   ]
  },
  {
   "cell_type": "markdown",
   "metadata": {},
   "source": [
    "### 6.4.2. Decision Tree pipeline with count vectorizer with GridSearch"
   ]
  },
  {
   "cell_type": "code",
   "execution_count": null,
   "metadata": {},
   "outputs": [],
   "source": [
    "vec = CountVectorizer()\n",
    "clf = DecisionTreeClassifier()\n",
    "\n",
    "pipe_params = {\n",
    "        'vec__max_features': [800, 1000, 1500],\n",
    "        'vec__min_df': [10, 15, 20, 25],\n",
    "        'vec__max_df': [.7, .8, .9, 1.0],\n",
    "        'vec__ngram_range': [(1,1), (1,2),(1,3)],\n",
    "        'vec__stop_words':['english', stop_words_mod],\n",
    "        'clf__max_depth':[2,3],\n",
    "        'clf__min_samples_split':[2,5,10]\n",
    "    }\n",
    "\n",
    "pipe_gs(X_train, X_test, y_train, y_test, vec, pipe_params)"
   ]
  },
  {
   "cell_type": "markdown",
   "metadata": {},
   "source": [
    "### 6.4.3. Decision Tree pipeline with tfidf vectorizer with default parameters - no GridSearch"
   ]
  },
  {
   "cell_type": "code",
   "execution_count": null,
   "metadata": {},
   "outputs": [],
   "source": [
    "pipe = Pipeline([\n",
    "    ('vec', TfidfVectorizer(stop_words = 'english')),\n",
    "    ('dt', DecisionTreeClassifier())\n",
    "])\n",
    "\n",
    "# Evaluate how your model will perform on unseen data\n",
    "print(cross_val_score(pipe, X_train, y_train, cv=3).mean())\n",
    "# Fit your model\n",
    "pipe.fit(X_train, y_train)\n",
    "# Training score\n",
    "print(pipe.score(X_train, y_train))\n",
    "# Test score\n",
    "print(pipe.score(X_test, y_test))"
   ]
  },
  {
   "cell_type": "markdown",
   "metadata": {},
   "source": [
    "### 6.4.4. Decision Tree pipeline with tfidf vectorizer with GridSearch"
   ]
  },
  {
   "cell_type": "code",
   "execution_count": null,
   "metadata": {},
   "outputs": [],
   "source": [
    "vec = TfidfVectorizer()\n",
    "clf = DecisionTreeClassifier()\n",
    "\n",
    "pipe_params = {\n",
    "        'vec__max_features': [800, 1000, 1500],\n",
    "        'vec__min_df': [10, 15, 20, 25],\n",
    "        'vec__max_df': [.7, .8, .9, 1.0],\n",
    "        'vec__ngram_range': [(1,1), (1,2),(1,3)],\n",
    "        'vec__stop_words':['english', stop_words_mod],\n",
    "        'clf__max_depth':[2,3],\n",
    "        'clf__min_samples_split':[2,5,10]\n",
    "    }\n",
    "\n",
    "pipe_gs(X_train, X_test, y_train, y_test, vec, pipe_params)"
   ]
  },
  {
   "cell_type": "markdown",
   "metadata": {},
   "source": [
    "## 6.5. Bagging "
   ]
  },
  {
   "cell_type": "markdown",
   "metadata": {},
   "source": [
    "### 6.5.1. Bagging pipeline with count vectorizer with default parameters - no GridSearch"
   ]
  },
  {
   "cell_type": "code",
   "execution_count": null,
   "metadata": {},
   "outputs": [],
   "source": [
    "pipe = Pipeline([\n",
    "    ('vec', CountVectorizer(stop_words = 'english')),\n",
    "    ('bag', BaggingClassifier())\n",
    "])\n",
    "\n",
    "# Evaluate how your model will perform on unseen data\n",
    "print(cross_val_score(pipe, X_train, y_train, cv=3).mean())\n",
    "# Fit your model\n",
    "pipe.fit(X_train, y_train)\n",
    "# Training score\n",
    "print(pipe.score(X_train, y_train))\n",
    "# Test score\n",
    "print(pipe.score(X_test, y_test))"
   ]
  },
  {
   "cell_type": "markdown",
   "metadata": {},
   "source": [
    "### 6.5.2. Bagging pipeline with count vectorizer with GridSearch"
   ]
  },
  {
   "cell_type": "code",
   "execution_count": null,
   "metadata": {},
   "outputs": [],
   "source": [
    "vec = CountVectorizer()\n",
    "clf = BaggingClassifier()\n",
    "\n",
    "pipe_params = {\n",
    "        'vec__max_features': [800, 1000, 1500],\n",
    "        'vec__min_df': [10, 15, 20, 25],\n",
    "        'vec__max_df': [.7, .8, .9, 1.0],\n",
    "        'vec__ngram_range': [(1,1), (1,2),(1,3)],\n",
    "        'vec__stop_words':['english', stop_words_mod],\n",
    "        'clf__n_estimators':[10, 20, 30]\n",
    "    }\n",
    "\n",
    "pipe_gs(X_train, X_test, y_train, y_test, vec, pipe_params)"
   ]
  },
  {
   "cell_type": "markdown",
   "metadata": {},
   "source": [
    "### 6.5.3. Bagging pipeline with tfidf vectorizer with default parameters - no GridSearch"
   ]
  },
  {
   "cell_type": "code",
   "execution_count": null,
   "metadata": {},
   "outputs": [],
   "source": [
    "pipe = Pipeline([\n",
    "    ('vec', TfidfVectorizer(stop_words = 'english')),\n",
    "    ('bag', BaggingClassifier())\n",
    "])\n",
    "\n",
    "# Evaluate how your model will perform on unseen data\n",
    "print(cross_val_score(pipe, X_train, y_train, cv=3).mean())\n",
    "# Fit your model\n",
    "pipe.fit(X_train, y_train)\n",
    "# Training score\n",
    "print(pipe.score(X_train, y_train))\n",
    "# Test score\n",
    "print(pipe.score(X_test, y_test))"
   ]
  },
  {
   "cell_type": "markdown",
   "metadata": {},
   "source": [
    "### 6.5.4. Bagging pipeline with tfidf vectorizer with GridSearch"
   ]
  },
  {
   "cell_type": "code",
   "execution_count": null,
   "metadata": {},
   "outputs": [],
   "source": [
    "vec = CountVectorizer()\n",
    "clf = BaggingClassifier()\n",
    "\n",
    "pipe_params = {\n",
    "        'vec__max_features': [800, 1000, 1500],\n",
    "        'vec__min_df': [10, 15, 20, 25],\n",
    "        'vec__max_df': [.7, .8, .9, 1.0],\n",
    "        'vec__ngram_range': [(1,1), (1,2),(1,3)],\n",
    "        'vec__stop_words':['english', stop_words_mod],\n",
    "        'clf__n_estimators':[10, 20, 30]\n",
    "    }\n",
    "\n",
    "pipe_gs(X_train, X_test, y_train, y_test, vec, pipe_params)"
   ]
  },
  {
   "cell_type": "markdown",
   "metadata": {},
   "source": [
    "## 6.6. Random Forest  "
   ]
  },
  {
   "cell_type": "markdown",
   "metadata": {},
   "source": [
    "### 6.6.1. Random Forest pipeline with count vectorizer with default parameters - no GridSearch"
   ]
  },
  {
   "cell_type": "code",
   "execution_count": null,
   "metadata": {},
   "outputs": [],
   "source": [
    "pipe = Pipeline([\n",
    "    ('vec', CountVectorizer(stop_words = 'english')),\n",
    "    ('rf', RandomForestClassifier())\n",
    "])\n",
    "\n",
    "# Evaluate how your model will perform on unseen data\n",
    "print(cross_val_score(pipe, X_train, y_train, cv=3).mean())\n",
    "# Fit your model\n",
    "pipe.fit(X_train, y_train)\n",
    "# Training score\n",
    "print(pipe.score(X_train, y_train))\n",
    "# Test score\n",
    "print(pipe.score(X_test, y_test))"
   ]
  },
  {
   "cell_type": "markdown",
   "metadata": {},
   "source": [
    "### 6.6.2. Random Forest pipeline with count vectorizer with GridSearch"
   ]
  },
  {
   "cell_type": "code",
   "execution_count": null,
   "metadata": {},
   "outputs": [],
   "source": [
    "vec = CountVectorizer()\n",
    "clf = RandomForestClassifier()\n",
    "\n",
    "pipe_params = {\n",
    "        'vec__max_features': [800, 1000, 1500],\n",
    "        'vec__min_df': [10, 15, 20, 25],\n",
    "        'vec__max_df': [.7, .8, .9, 1.0],\n",
    "        'vec__ngram_range': [(1,1), (1,2),(1,3)],\n",
    "        'vec__stop_words':['english', stop_words_mod],\n",
    "        'clf__n_estimators':[10, 20, 30]\n",
    "    }\n",
    "\n",
    "pipe_gs(X_train, X_test, y_train, y_test, vec, pipe_params)"
   ]
  },
  {
   "cell_type": "markdown",
   "metadata": {},
   "source": [
    "### 6.6.3. Random Forest pipeline with tfidf vectorizer with default parameters - no GridSearch"
   ]
  },
  {
   "cell_type": "code",
   "execution_count": null,
   "metadata": {},
   "outputs": [],
   "source": [
    "pipe = Pipeline([\n",
    "    ('vec', TfidfVectorizer(stop_words = 'english')),\n",
    "    ('rf', RandomForestClassifier())\n",
    "])\n",
    "\n",
    "# Evaluate how your model will perform on unseen data\n",
    "print(cross_val_score(pipe, X_train, y_train, cv=3).mean())\n",
    "# Fit your model\n",
    "pipe.fit(X_train, y_train)\n",
    "# Training score\n",
    "print(pipe.score(X_train, y_train))\n",
    "# Test score\n",
    "print(pipe.score(X_test, y_test))"
   ]
  },
  {
   "cell_type": "markdown",
   "metadata": {},
   "source": [
    "### 6.6.4. Random Forest pipeline with tfidf vectorizer with GridSearch"
   ]
  },
  {
   "cell_type": "code",
   "execution_count": null,
   "metadata": {},
   "outputs": [],
   "source": [
    "vec = TfidfVectorizer()\n",
    "clf = RandomForestClassifier()\n",
    "\n",
    "pipe_params = {\n",
    "        'vec__max_features': [800, 1000, 1500],\n",
    "        'vec__min_df': [10, 15, 20, 25],\n",
    "        'vec__max_df': [.7, .8, .9, 1.0],\n",
    "        'vec__ngram_range': [(1,1), (1,2),(1,3)],\n",
    "        'vec__stop_words':['english', stop_words_mod],\n",
    "        'clf__n_estimators':[10, 20, 30]\n",
    "    }\n",
    "\n",
    "pipe_gs(X_train, X_test, y_train, y_test, vec, pipe_params)"
   ]
  },
  {
   "cell_type": "markdown",
   "metadata": {},
   "source": [
    "## 6.7. Extra Trees "
   ]
  },
  {
   "cell_type": "markdown",
   "metadata": {},
   "source": [
    "### 6.6.1. Extra Trees pipeline with count vectorizer with default parameters - no GridSearch"
   ]
  },
  {
   "cell_type": "code",
   "execution_count": null,
   "metadata": {},
   "outputs": [],
   "source": [
    "pipe = Pipeline([\n",
    "    ('vec', CountVectorizer(stop_words = 'english')),\n",
    "    ('et', ExtraTreeClassifier())\n",
    "])\n",
    "\n",
    "# Evaluate how your model will perform on unseen data\n",
    "print(cross_val_score(pipe, X_train, y_train, cv=3).mean())\n",
    "# Fit your model\n",
    "pipe.fit(X_train, y_train)\n",
    "# Training score\n",
    "print(pipe.score(X_train, y_train))\n",
    "# Test score\n",
    "print(pipe.score(X_test, y_test))"
   ]
  },
  {
   "cell_type": "markdown",
   "metadata": {},
   "source": [
    "### 6.6.2. Extra Trees pipeline with count vectorizer with GridSearch"
   ]
  },
  {
   "cell_type": "code",
   "execution_count": null,
   "metadata": {},
   "outputs": [],
   "source": [
    "vec = CountVectorizer()\n",
    "clf = ExtraTreesClassifier()\n",
    "\n",
    "pipe_params = {\n",
    "        'vec__max_features': [800, 1000, 1500],\n",
    "        'vec__min_df': [10, 15, 20, 25],\n",
    "        'vec__max_df': [.7, .8, .9, 1.0],\n",
    "        'vec__ngram_range': [(1,1), (1,2),(1,3)],\n",
    "        'vec__stop_words':['english', stop_words_mod],\n",
    "        'clf__n_estimators':[10, 20, 30]\n",
    "    }\n",
    "\n",
    "pipe_gs(X_train, X_test, y_train, y_test, vec, pipe_params)"
   ]
  },
  {
   "cell_type": "markdown",
   "metadata": {},
   "source": [
    "### 6.6.3. Extra Trees pipeline with tfidf vectorizer with default parameters - no GridSearch"
   ]
  },
  {
   "cell_type": "code",
   "execution_count": null,
   "metadata": {},
   "outputs": [],
   "source": [
    "pipe = Pipeline([\n",
    "    ('vec', TfidfVectorizer(stop_words = 'english')),\n",
    "    ('et', ExtraTreeClassifier())\n",
    "])\n",
    "\n",
    "# Evaluate how your model will perform on unseen data\n",
    "print(cross_val_score(pipe, X_train, y_train, cv=3).mean())\n",
    "# Fit your model\n",
    "pipe.fit(X_train, y_train)\n",
    "# Training score\n",
    "print(pipe.score(X_train, y_train))\n",
    "# Test score\n",
    "print(pipe.score(X_test, y_test))"
   ]
  },
  {
   "cell_type": "markdown",
   "metadata": {},
   "source": [
    "### 6.6.4. Extra Trees pipeline with tfidf vectorizer with GridSearch"
   ]
  },
  {
   "cell_type": "code",
   "execution_count": null,
   "metadata": {},
   "outputs": [],
   "source": [
    "vec = TfidfVectorizer()\n",
    "clf = ExtraTreesClassifier()\n",
    "\n",
    "pipe_params = {\n",
    "        'vec__max_features': [800, 1000, 1500],\n",
    "        'vec__min_df': [10, 15, 20, 25],\n",
    "        'vec__max_df': [.7, .8, .9, 1.0],\n",
    "        'vec__ngram_range': [(1,1), (1,2),(1,3)],\n",
    "        'vec__stop_words':['english', stop_words_mod],\n",
    "        'clf__n_estimators':[10, 20, 30]\n",
    "    }\n",
    "\n",
    "pipe_gs(X_train, X_test, y_train, y_test, vec, pipe_params)"
   ]
  },
  {
   "cell_type": "markdown",
   "metadata": {},
   "source": [
    "# 7. Prepwork for Conclusive Insights "
   ]
  },
  {
   "cell_type": "markdown",
   "metadata": {},
   "source": [
    "In notebook **4. Model Evaluation and Final Model Selection**, I evaluate the models and choose the best model based on the two criteria I defined in notebook **1. Problem Statement and Getting Data**. However, it may be a good idea to do a more qualitative assessment of how weel the best model is performing on classifying between two subreddits by looking at its interpretability. The next three codeblocks will extract the most important features that the best model found. These features will be qualitatively assessed on how well or poorly they may fit within the generalized definition of depression disorder and anxiety disorder. A more thorough discussion on this can be found in notebook **5.Conclusive Insights and Recommendations**  "
   ]
  },
  {
   "cell_type": "code",
   "execution_count": null,
   "metadata": {},
   "outputs": [],
   "source": [
    "# build a pipeline with the best model (naive bayes), tfidf vectorizer and the best parameters\n",
    "vec = TfidfVectorizer()\n",
    "\n",
    "pipe_params = {\n",
    "        'vec__max_features': [800],\n",
    "        'vec__min_df': [20],\n",
    "        'vec__max_df': [.7],\n",
    "        'vec__ngram_range': [(1,1)],\n",
    "        'vec__stop_words':['english'],\n",
    "        'mnb__alpha':[1.0]\n",
    "    }\n",
    "\n",
    "# run the pipelin in GridSearch\n",
    "gs = GridSearchCVProgressBar(pipe, param_grid=pipe_params, cv=3, verbose = 1, n_jobs = 4)\n",
    "gs.fit(X_train, y_train)\n",
    "\n",
    "# save the coefficients of the best model into a list\n",
    "coef_array = gs.best_estimator_.named_steps['mnb'].coef_\n",
    "coef_array.tolist()[0]"
   ]
  },
  {
   "cell_type": "code",
   "execution_count": 427,
   "metadata": {},
   "outputs": [],
   "source": [
    "# create a data frame that aligns feature names with the coefficient of the feature\n",
    "important_features = pd.DataFrame(zip(df.columns, coef_array.tolist()[0]), columns = ['feature', 'importance'])"
   ]
  },
  {
   "cell_type": "code",
   "execution_count": 448,
   "metadata": {},
   "outputs": [
    {
     "data": {
      "text/html": [
       "<div>\n",
       "<style scoped>\n",
       "    .dataframe tbody tr th:only-of-type {\n",
       "        vertical-align: middle;\n",
       "    }\n",
       "\n",
       "    .dataframe tbody tr th {\n",
       "        vertical-align: top;\n",
       "    }\n",
       "\n",
       "    .dataframe thead th {\n",
       "        text-align: right;\n",
       "    }\n",
       "</style>\n",
       "<table border=\"1\" class=\"dataframe\">\n",
       "  <thead>\n",
       "    <tr style=\"text-align: right;\">\n",
       "      <th></th>\n",
       "      <th>feature</th>\n",
       "      <th>importance</th>\n",
       "    </tr>\n",
       "  </thead>\n",
       "  <tbody>\n",
       "    <tr>\n",
       "      <th>274</th>\n",
       "      <td>kill</td>\n",
       "      <td>-8.496909</td>\n",
       "    </tr>\n",
       "    <tr>\n",
       "      <th>411</th>\n",
       "      <td>rant</td>\n",
       "      <td>-8.496909</td>\n",
       "    </tr>\n",
       "    <tr>\n",
       "      <th>8</th>\n",
       "      <td>alive</td>\n",
       "      <td>-8.314587</td>\n",
       "    </tr>\n",
       "    <tr>\n",
       "      <th>432</th>\n",
       "      <td>sadness</td>\n",
       "      <td>-8.314587</td>\n",
       "    </tr>\n",
       "    <tr>\n",
       "      <th>336</th>\n",
       "      <td>miserable</td>\n",
       "      <td>-8.314587</td>\n",
       "    </tr>\n",
       "    <tr>\n",
       "      <th>222</th>\n",
       "      <td>happiness</td>\n",
       "      <td>-8.314587</td>\n",
       "    </tr>\n",
       "    <tr>\n",
       "      <th>93</th>\n",
       "      <td>cried</td>\n",
       "      <td>-8.160437</td>\n",
       "    </tr>\n",
       "    <tr>\n",
       "      <th>107</th>\n",
       "      <td>dead</td>\n",
       "      <td>-8.160437</td>\n",
       "    </tr>\n",
       "    <tr>\n",
       "      <th>458</th>\n",
       "      <td>sister</td>\n",
       "      <td>-8.160437</td>\n",
       "    </tr>\n",
       "    <tr>\n",
       "      <th>206</th>\n",
       "      <td>grades</td>\n",
       "      <td>-8.160437</td>\n",
       "    </tr>\n",
       "    <tr>\n",
       "      <th>6</th>\n",
       "      <td>age</td>\n",
       "      <td>-8.160437</td>\n",
       "    </tr>\n",
       "    <tr>\n",
       "      <th>184</th>\n",
       "      <td>fucked</td>\n",
       "      <td>-8.026905</td>\n",
       "    </tr>\n",
       "    <tr>\n",
       "      <th>97</th>\n",
       "      <td>cut</td>\n",
       "      <td>-8.026905</td>\n",
       "    </tr>\n",
       "    <tr>\n",
       "      <th>492</th>\n",
       "      <td>strong</td>\n",
       "      <td>-8.026905</td>\n",
       "    </tr>\n",
       "    <tr>\n",
       "      <th>346</th>\n",
       "      <td>motivation</td>\n",
       "      <td>-8.026905</td>\n",
       "    </tr>\n",
       "    <tr>\n",
       "      <th>343</th>\n",
       "      <td>mood</td>\n",
       "      <td>-7.909122</td>\n",
       "    </tr>\n",
       "    <tr>\n",
       "      <th>502</th>\n",
       "      <td>suffering</td>\n",
       "      <td>-7.909122</td>\n",
       "    </tr>\n",
       "    <tr>\n",
       "      <th>141</th>\n",
       "      <td>escape</td>\n",
       "      <td>-7.909122</td>\n",
       "    </tr>\n",
       "    <tr>\n",
       "      <th>362</th>\n",
       "      <td>numb</td>\n",
       "      <td>-7.909122</td>\n",
       "    </tr>\n",
       "    <tr>\n",
       "      <th>178</th>\n",
       "      <td>forget</td>\n",
       "      <td>-7.909122</td>\n",
       "    </tr>\n",
       "    <tr>\n",
       "      <th>563</th>\n",
       "      <td>vent</td>\n",
       "      <td>-7.909122</td>\n",
       "    </tr>\n",
       "    <tr>\n",
       "      <th>301</th>\n",
       "      <td>lonely</td>\n",
       "      <td>-7.909122</td>\n",
       "    </tr>\n",
       "    <tr>\n",
       "      <th>607</th>\n",
       "      <td>young</td>\n",
       "      <td>-7.909122</td>\n",
       "    </tr>\n",
       "    <tr>\n",
       "      <th>117</th>\n",
       "      <td>deserve</td>\n",
       "      <td>-7.909122</td>\n",
       "    </tr>\n",
       "    <tr>\n",
       "      <th>580</th>\n",
       "      <td>weight</td>\n",
       "      <td>-7.909122</td>\n",
       "    </tr>\n",
       "    <tr>\n",
       "      <th>230</th>\n",
       "      <td>healthy</td>\n",
       "      <td>-7.909122</td>\n",
       "    </tr>\n",
       "    <tr>\n",
       "      <th>226</th>\n",
       "      <td>harm</td>\n",
       "      <td>-7.909122</td>\n",
       "    </tr>\n",
       "    <tr>\n",
       "      <th>598</th>\n",
       "      <td>worth</td>\n",
       "      <td>-7.909122</td>\n",
       "    </tr>\n",
       "    <tr>\n",
       "      <th>225</th>\n",
       "      <td>harder</td>\n",
       "      <td>-7.909122</td>\n",
       "    </tr>\n",
       "    <tr>\n",
       "      <th>602</th>\n",
       "      <td>yeah</td>\n",
       "      <td>-7.909122</td>\n",
       "    </tr>\n",
       "    <tr>\n",
       "      <th>...</th>\n",
       "      <td>...</td>\n",
       "      <td>...</td>\n",
       "    </tr>\n",
       "    <tr>\n",
       "      <th>203</th>\n",
       "      <td>good</td>\n",
       "      <td>-5.286065</td>\n",
       "    </tr>\n",
       "    <tr>\n",
       "      <th>532</th>\n",
       "      <td>thought</td>\n",
       "      <td>-5.238812</td>\n",
       "    </tr>\n",
       "    <tr>\n",
       "      <th>268</th>\n",
       "      <td>job</td>\n",
       "      <td>-5.223545</td>\n",
       "    </tr>\n",
       "    <tr>\n",
       "      <th>310</th>\n",
       "      <td>lot</td>\n",
       "      <td>-5.223545</td>\n",
       "    </tr>\n",
       "    <tr>\n",
       "      <th>575</th>\n",
       "      <td>way</td>\n",
       "      <td>-5.179093</td>\n",
       "    </tr>\n",
       "    <tr>\n",
       "      <th>351</th>\n",
       "      <td>need</td>\n",
       "      <td>-5.164704</td>\n",
       "    </tr>\n",
       "    <tr>\n",
       "      <th>604</th>\n",
       "      <td>years</td>\n",
       "      <td>-5.150520</td>\n",
       "    </tr>\n",
       "    <tr>\n",
       "      <th>192</th>\n",
       "      <td>getting</td>\n",
       "      <td>-5.150520</td>\n",
       "    </tr>\n",
       "    <tr>\n",
       "      <th>439</th>\n",
       "      <td>school</td>\n",
       "      <td>-5.129613</td>\n",
       "    </tr>\n",
       "    <tr>\n",
       "      <th>235</th>\n",
       "      <td>help</td>\n",
       "      <td>-5.095711</td>\n",
       "    </tr>\n",
       "    <tr>\n",
       "      <th>316</th>\n",
       "      <td>make</td>\n",
       "      <td>-5.089067</td>\n",
       "    </tr>\n",
       "    <tr>\n",
       "      <th>32</th>\n",
       "      <td>bad</td>\n",
       "      <td>-5.089067</td>\n",
       "    </tr>\n",
       "    <tr>\n",
       "      <th>167</th>\n",
       "      <td>feeling</td>\n",
       "      <td>-5.075909</td>\n",
       "    </tr>\n",
       "    <tr>\n",
       "      <th>479</th>\n",
       "      <td>started</td>\n",
       "      <td>-5.062922</td>\n",
       "    </tr>\n",
       "    <tr>\n",
       "      <th>204</th>\n",
       "      <td>got</td>\n",
       "      <td>-5.037443</td>\n",
       "    </tr>\n",
       "    <tr>\n",
       "      <th>14</th>\n",
       "      <td>anxious</td>\n",
       "      <td>-5.018750</td>\n",
       "    </tr>\n",
       "    <tr>\n",
       "      <th>529</th>\n",
       "      <td>think</td>\n",
       "      <td>-4.970548</td>\n",
       "    </tr>\n",
       "    <tr>\n",
       "      <th>105</th>\n",
       "      <td>day</td>\n",
       "      <td>-4.958852</td>\n",
       "    </tr>\n",
       "    <tr>\n",
       "      <th>291</th>\n",
       "      <td>life</td>\n",
       "      <td>-4.880600</td>\n",
       "    </tr>\n",
       "    <tr>\n",
       "      <th>528</th>\n",
       "      <td>things</td>\n",
       "      <td>-4.783337</td>\n",
       "    </tr>\n",
       "    <tr>\n",
       "      <th>588</th>\n",
       "      <td>work</td>\n",
       "      <td>-4.740371</td>\n",
       "    </tr>\n",
       "    <tr>\n",
       "      <th>381</th>\n",
       "      <td>people</td>\n",
       "      <td>-4.596958</td>\n",
       "    </tr>\n",
       "    <tr>\n",
       "      <th>200</th>\n",
       "      <td>going</td>\n",
       "      <td>-4.519098</td>\n",
       "    </tr>\n",
       "    <tr>\n",
       "      <th>569</th>\n",
       "      <td>want</td>\n",
       "      <td>-4.446865</td>\n",
       "    </tr>\n",
       "    <tr>\n",
       "      <th>417</th>\n",
       "      <td>really</td>\n",
       "      <td>-4.234229</td>\n",
       "    </tr>\n",
       "    <tr>\n",
       "      <th>534</th>\n",
       "      <td>time</td>\n",
       "      <td>-4.234229</td>\n",
       "    </tr>\n",
       "    <tr>\n",
       "      <th>278</th>\n",
       "      <td>know</td>\n",
       "      <td>-4.211944</td>\n",
       "    </tr>\n",
       "    <tr>\n",
       "      <th>166</th>\n",
       "      <td>feel</td>\n",
       "      <td>-3.864123</td>\n",
       "    </tr>\n",
       "    <tr>\n",
       "      <th>292</th>\n",
       "      <td>like</td>\n",
       "      <td>-3.606560</td>\n",
       "    </tr>\n",
       "    <tr>\n",
       "      <th>13</th>\n",
       "      <td>anxiety</td>\n",
       "      <td>-3.585726</td>\n",
       "    </tr>\n",
       "  </tbody>\n",
       "</table>\n",
       "<p>608 rows × 2 columns</p>\n",
       "</div>"
      ],
      "text/plain": [
       "        feature  importance\n",
       "274        kill   -8.496909\n",
       "411        rant   -8.496909\n",
       "8         alive   -8.314587\n",
       "432     sadness   -8.314587\n",
       "336   miserable   -8.314587\n",
       "222   happiness   -8.314587\n",
       "93        cried   -8.160437\n",
       "107        dead   -8.160437\n",
       "458      sister   -8.160437\n",
       "206      grades   -8.160437\n",
       "6           age   -8.160437\n",
       "184      fucked   -8.026905\n",
       "97          cut   -8.026905\n",
       "492      strong   -8.026905\n",
       "346  motivation   -8.026905\n",
       "343        mood   -7.909122\n",
       "502   suffering   -7.909122\n",
       "141      escape   -7.909122\n",
       "362        numb   -7.909122\n",
       "178      forget   -7.909122\n",
       "563        vent   -7.909122\n",
       "301      lonely   -7.909122\n",
       "607       young   -7.909122\n",
       "117     deserve   -7.909122\n",
       "580      weight   -7.909122\n",
       "230     healthy   -7.909122\n",
       "226        harm   -7.909122\n",
       "598       worth   -7.909122\n",
       "225      harder   -7.909122\n",
       "602        yeah   -7.909122\n",
       "..          ...         ...\n",
       "203        good   -5.286065\n",
       "532     thought   -5.238812\n",
       "268         job   -5.223545\n",
       "310         lot   -5.223545\n",
       "575         way   -5.179093\n",
       "351        need   -5.164704\n",
       "604       years   -5.150520\n",
       "192     getting   -5.150520\n",
       "439      school   -5.129613\n",
       "235        help   -5.095711\n",
       "316        make   -5.089067\n",
       "32          bad   -5.089067\n",
       "167     feeling   -5.075909\n",
       "479     started   -5.062922\n",
       "204         got   -5.037443\n",
       "14      anxious   -5.018750\n",
       "529       think   -4.970548\n",
       "105         day   -4.958852\n",
       "291        life   -4.880600\n",
       "528      things   -4.783337\n",
       "588        work   -4.740371\n",
       "381      people   -4.596958\n",
       "200       going   -4.519098\n",
       "569        want   -4.446865\n",
       "417      really   -4.234229\n",
       "534        time   -4.234229\n",
       "278        know   -4.211944\n",
       "166        feel   -3.864123\n",
       "292        like   -3.606560\n",
       "13      anxiety   -3.585726\n",
       "\n",
       "[608 rows x 2 columns]"
      ]
     },
     "execution_count": 448,
     "metadata": {},
     "output_type": "execute_result"
    }
   ],
   "source": [
    "important_features.sort_values(by = 'importance')"
   ]
  }
 ],
 "metadata": {
  "kernelspec": {
   "display_name": "Python 3",
   "language": "python",
   "name": "python3"
  },
  "language_info": {
   "codemirror_mode": {
    "name": "ipython",
    "version": 3
   },
   "file_extension": ".py",
   "mimetype": "text/x-python",
   "name": "python",
   "nbconvert_exporter": "python",
   "pygments_lexer": "ipython3",
   "version": "3.7.1"
  }
 },
 "nbformat": 4,
 "nbformat_minor": 2
}
