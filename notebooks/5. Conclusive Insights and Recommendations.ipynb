{
 "cells": [
  {
   "cell_type": "markdown",
   "metadata": {},
   "source": [
    "# Problem Restatement"
   ]
  },
  {
   "cell_type": "markdown",
   "metadata": {},
   "source": [
    "The objective of this project is to utilize the API of reddit.com to pull data from two different subreddits and build a model that will predict which subreddit a given post comes from. The two subreddits that were chosen were [r/depression](https://www.reddit.com/r/depression/) and [r/anxiety](https://www.reddit.com/r/Anxiety/). "
   ]
  },
  {
   "cell_type": "markdown",
   "metadata": {},
   "source": [
    "### Results "
   ]
  },
  {
   "cell_type": "markdown",
   "metadata": {},
   "source": [
    "28 modesl were built and evaluated. The best model was chosen to be Multinomial Naive Base with a set of unique parameters tfidf vectoizer. This is the model that achieved the most optimal tradeoff between high accuracy score and low bias/low variance condition set by the criteria for definind a best model in notebook **1. Problem Statement and Getting Data.** The accuracy of this model is 83%.  "
   ]
  },
  {
   "cell_type": "markdown",
   "metadata": {},
   "source": [
    "This is all great. But a question arises as to what is the purpose of this model anyway? Why classify subreddit posts at all? To answer this question, some qualitative interpretation of this model is necessary. "
   ]
  },
  {
   "cell_type": "markdown",
   "metadata": {},
   "source": [
    "### So What? "
   ]
  },
  {
   "cell_type": "markdown",
   "metadata": {},
   "source": [
    "In notebook **3. Model Building and Final MOdel Selection**, section 7 was dedicated to extracting the features that our best model found. We have a model, that classifies posts which talk about depression vs anxiety with about 83% accuracy. \n",
    "\n",
    "**Expectation:** It is reasonable to expect that while narratives about depression disorder and anxiety disorder may be similar in a lot of ways, there are nevertheless distinctions between the two narratives which reflect the true distinctions between these psychological disorders. \n",
    "    \n",
    "**Assumption based on expectation:** It is then reasonable to assume that if the model separates these narratives relatively well, then it's separating them based on some true distinguishing factors that exist in the data which are derivatives of the expectation above. "
   ]
  },
  {
   "cell_type": "markdown",
   "metadata": {},
   "source": [
    "One way to approximate these distinctions is to look at the words themselves. In the context of the model these are the features. Posts coming from r/depression are expected to have a certain set of features that are different from features that represent the posts coming from r/anxiety in the feature space (disregarding features that are in the intersection of the two datasets). Qualitatively inspecting these features may therefore lead to some interesting insights. But before that, let's define depression disorder and anxiety disorder as they are currently known: "
   ]
  },
  {
   "cell_type": "markdown",
   "metadata": {},
   "source": [
    "# Depression Disorder\n",
    "\n",
    "**Definition** as it appears in [Wikipedia](https://en.wikipedia.org/wiki/Major_depressive_disorder): \"Major depressive disorder (MDD), also known simply as depression, is a mental disorder characterized by at least two weeks of low mood that is present across most situations.\n",
    "\n",
    "**It is often accompanied by low self-esteem, loss of interest in normally enjoyable activites, low energy and pain without a clear cause.\"** \n",
    "\n",
    "![depression](../images/depression.png)"
   ]
  },
  {
   "cell_type": "markdown",
   "metadata": {},
   "source": [
    "# Anxiety Disorder "
   ]
  },
  {
   "cell_type": "markdown",
   "metadata": {},
   "source": [
    "**Definition** as it appears in [Wikipedia](https://en.wikipedia.org/wiki/Anxiety_disorder): \"Anxiety disorders are a group of mental disorders characterized by significant feelings of anxiety and fear.\n",
    "\n",
    " \n",
    "**Anxiety is a worry about future events, and fear is a reaction to current events.\"**\n",
    "\n",
    "![anxiety](../images/anxiety.png)"
   ]
  },
  {
   "cell_type": "markdown",
   "metadata": {},
   "source": [
    "### Some interpretation: Internally based vs externally based\n",
    "\n",
    "According to the definitions above, **depression** normally does not have a clear cause and symptoms such as low-self esteem, pain, loss of interest in enjoyable activites seem to be reflective of an internal state of a person. \n",
    "\n",
    "In contrast, **anxiety** worry about future events and fear - a reaction to current events. So anxiety seems to be triggerred more by outide or external things such as events. The symptoms of anxiety are a reactive response to such externally based events. "
   ]
  },
  {
   "cell_type": "markdown",
   "metadata": {},
   "source": [
    "### Most Important Words From the Model "
   ]
  },
  {
   "cell_type": "markdown",
   "metadata": {},
   "source": [
    "I ranked the most important features (words) the best model and scanned through them looking for some qualitative insights to help with interpretation on how the model is classifying between depression and anxiety posts. I manually hand-picked a few and threw them into a word cloud based on the coefficient of the features (the coefficients were transformed into relative frequencies). Since this was a manual process, the sizes of the words don't represent the exact frequencies, but are a good relative approximation of those. Given more time, I will officially create a word cloud in python that utalizes the actual counts of these words across the entire document corpus. Here are some preliminary and rough results: "
   ]
  },
  {
   "cell_type": "markdown",
   "metadata": {},
   "source": [
    "### Depression Words\n",
    "\n",
    "![depression](../images/depression_words.png)"
   ]
  },
  {
   "cell_type": "markdown",
   "metadata": {},
   "source": [
    "Having read through a sample of reddits on my own, I can say with some confidence that the word 'kill' is in the context of 'suicide', and the word 'worth' refers to 'self worth'. While this is only my speculation and no conclusions should be drawn from this, the words that appear in this word cloud are words associated with describing an internal state of a person. Now let's look at anxiety words. "
   ]
  },
  {
   "cell_type": "markdown",
   "metadata": {},
   "source": [
    "### Anxiety Words \n",
    "\n",
    "![anxiety](../images/anxiety_words.png)"
   ]
  },
  {
   "cell_type": "markdown",
   "metadata": {},
   "source": [
    "Similary to posts from r/depression, I also read a sample of posts from r/anxiety. The word 'awkward' is often used in the context of feeling 'socially awkward' and the word 'like' is often used in the context of being liked or the feat of not being liked by other people. We see other words like people, public, work, life, fail come up here. Whether this is by mere coincidence or not, but it looks like a lot of these words are generally words used in context of describing social situations or interactions. In other words - things or events happening outside of a person. "
   ]
  },
  {
   "cell_type": "markdown",
   "metadata": {},
   "source": [
    "# Conclusive Insights "
   ]
  },
  {
   "cell_type": "markdown",
   "metadata": {},
   "source": [
    "The posts on reddit change every day. This means that unless reproducible, the patterns seen in these words coming from this data cannot be generalized to conclusions. But the insight we gain from this sample of data is that the most important words identified by our model do tend to roughly align with what we would expect from the definitions of depression and anxiety laid out earlier. While this is not a conclusion, but rather a conclusive insight, it still is an interesting one that needs and deserves further investigation. "
   ]
  },
  {
   "cell_type": "markdown",
   "metadata": {},
   "source": [
    "Numerous research groups are currently working on finding ways to leverage machine learning and AI to help in medical and mental health fields. From aiding in diagnostication to perhaps even discovering unprecedented symptoms hidden within the narratives and descriptions of people who suffer from any given medical or mental condition, more faith should be put in machine learning to facilitate such endeavors. "
   ]
  },
  {
   "cell_type": "markdown",
   "metadata": {},
   "source": [
    "This project was based on reddit posts where data is very noisy: not everyone in the depression subreddit has depression, or not everyone who is posting in anxiety subreddit has anxiety. Some users of these subreddits are confused, others seem to be asking for help figuring out whether they do even have a mental disorder. In other words, reddit is a social media site and Naive Bayes is a very simple model. Yet the insights we can draw from this project are promising: machine learning does indeed seem promising in its application within the medical and mental health industry. "
   ]
  },
  {
   "cell_type": "markdown",
   "metadata": {},
   "source": [
    "# Recommendations"
   ]
  },
  {
   "cell_type": "markdown",
   "metadata": {},
   "source": [
    "Given the results of this project, my recommendations are as follows: \n",
    "\n",
    "1. Researchers intersted in understanding how machine learning can help in the medical and mental health industries shouldn't worry too much about 'clean' data and should use social media and online discussion platforms such as reddit to conduct research. This data is free and easily accessible and it shows promising potential. \n",
    "\n",
    "2. Investors should invest funds in the research and development of machine learning technologies because these technologies may change the way conventional diagnostication is done, making the process a lot more efficient, fast and easy. \n",
    "\n",
    "3. Investors should incest funds in the research and development of machine learning technologies because they have the potential of discovering symptomology of new, unprecedented ailments leveraging a computer's ability to traverse massive amounts of data. So far all known illnesses and disorders known to the medical and mental health professionals and researchers are based on data collected by individual patients going to a professional's office to seek treatment. We have an extensive medical literature of definitions and symptoms of known medical conditions. But this doesn't mean that what we know today is all that there is. We don't know what we don't know and beyond that new or different varieties of existing ailnments evolve and morphe every day. The use of big data and machine learning may help researchers identify or discover such unprecedented cases much faster than is currently possible. "
   ]
  }
 ],
 "metadata": {
  "kernelspec": {
   "display_name": "Python 3",
   "language": "python",
   "name": "python3"
  },
  "language_info": {
   "codemirror_mode": {
    "name": "ipython",
    "version": 3
   },
   "file_extension": ".py",
   "mimetype": "text/x-python",
   "name": "python",
   "nbconvert_exporter": "python",
   "pygments_lexer": "ipython3",
   "version": "3.7.1"
  }
 },
 "nbformat": 4,
 "nbformat_minor": 2
}
